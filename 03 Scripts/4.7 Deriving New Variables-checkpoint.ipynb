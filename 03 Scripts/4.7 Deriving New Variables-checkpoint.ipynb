{
 "cells": [
  {
   "cell_type": "markdown",
   "id": "2a03291a",
   "metadata": {},
   "source": [
    "# Creation of new columns in orders_products_merged dataset"
   ]
  },
  {
   "cell_type": "markdown",
   "id": "8281a514",
   "metadata": {},
   "source": [
    "## List of Contents\n",
    "##### 1.1 Creating price_label column {using the If-statements with the loc () function}\n",
    "##### 1.2 Creating busiest_day column {using If- statements with For-Loops}\n",
    "##### 2.1 Clients prefer the inclusion of two Busiest and Slowest days (not 'Busiest day')\n",
    "##### 2.2 Clients also need to know the busiest periods in the day (according to level of orders by clients)\n",
    "- Exporting dataframe in Pickle format"
   ]
  },
  {
   "cell_type": "code",
   "execution_count": 2,
   "id": "996cf7f6",
   "metadata": {},
   "outputs": [],
   "source": [
    "# Import libraries\n",
    "import pandas as pd\n",
    "import numpy as np\n",
    "import os"
   ]
  },
  {
   "cell_type": "code",
   "execution_count": 3,
   "id": "e1d3ed73",
   "metadata": {},
   "outputs": [],
   "source": [
    "# Import dataset for the exercise: orders_products_merged as df_mega\n",
    "\n",
    "df_mega = pd.read_pickle(r'C:\\Users\\IDONG\\Prepared data\\orders_products_merged.pkl')"
   ]
  },
  {
   "cell_type": "code",
   "execution_count": 4,
   "id": "8860a5de",
   "metadata": {},
   "outputs": [
    {
     "data": {
      "text/html": [
       "<div>\n",
       "<style scoped>\n",
       "    .dataframe tbody tr th:only-of-type {\n",
       "        vertical-align: middle;\n",
       "    }\n",
       "\n",
       "    .dataframe tbody tr th {\n",
       "        vertical-align: top;\n",
       "    }\n",
       "\n",
       "    .dataframe thead th {\n",
       "        text-align: right;\n",
       "    }\n",
       "</style>\n",
       "<table border=\"1\" class=\"dataframe\">\n",
       "  <thead>\n",
       "    <tr style=\"text-align: right;\">\n",
       "      <th></th>\n",
       "      <th>product_id</th>\n",
       "      <th>product_name</th>\n",
       "      <th>aisle_id</th>\n",
       "      <th>department_id</th>\n",
       "      <th>prices</th>\n",
       "      <th>order_id</th>\n",
       "      <th>user_id</th>\n",
       "      <th>order_number</th>\n",
       "      <th>orders_day_of_week</th>\n",
       "      <th>order_hour_of_day</th>\n",
       "      <th>days_since_prior_order</th>\n",
       "      <th>add_to_cart_order</th>\n",
       "      <th>reordered</th>\n",
       "      <th>_merge</th>\n",
       "    </tr>\n",
       "  </thead>\n",
       "  <tbody>\n",
       "    <tr>\n",
       "      <th>0</th>\n",
       "      <td>1</td>\n",
       "      <td>Chocolate Sandwich Cookies</td>\n",
       "      <td>61</td>\n",
       "      <td>19</td>\n",
       "      <td>5.800781</td>\n",
       "      <td>3139998</td>\n",
       "      <td>138</td>\n",
       "      <td>28</td>\n",
       "      <td>6</td>\n",
       "      <td>11</td>\n",
       "      <td>3.0</td>\n",
       "      <td>5</td>\n",
       "      <td>0</td>\n",
       "      <td>both</td>\n",
       "    </tr>\n",
       "    <tr>\n",
       "      <th>1</th>\n",
       "      <td>1</td>\n",
       "      <td>Chocolate Sandwich Cookies</td>\n",
       "      <td>61</td>\n",
       "      <td>19</td>\n",
       "      <td>5.800781</td>\n",
       "      <td>1977647</td>\n",
       "      <td>138</td>\n",
       "      <td>30</td>\n",
       "      <td>6</td>\n",
       "      <td>17</td>\n",
       "      <td>20.0</td>\n",
       "      <td>1</td>\n",
       "      <td>1</td>\n",
       "      <td>both</td>\n",
       "    </tr>\n",
       "    <tr>\n",
       "      <th>2</th>\n",
       "      <td>1</td>\n",
       "      <td>Chocolate Sandwich Cookies</td>\n",
       "      <td>61</td>\n",
       "      <td>19</td>\n",
       "      <td>5.800781</td>\n",
       "      <td>389851</td>\n",
       "      <td>709</td>\n",
       "      <td>2</td>\n",
       "      <td>0</td>\n",
       "      <td>21</td>\n",
       "      <td>6.0</td>\n",
       "      <td>20</td>\n",
       "      <td>0</td>\n",
       "      <td>both</td>\n",
       "    </tr>\n",
       "    <tr>\n",
       "      <th>3</th>\n",
       "      <td>1</td>\n",
       "      <td>Chocolate Sandwich Cookies</td>\n",
       "      <td>61</td>\n",
       "      <td>19</td>\n",
       "      <td>5.800781</td>\n",
       "      <td>652770</td>\n",
       "      <td>764</td>\n",
       "      <td>1</td>\n",
       "      <td>3</td>\n",
       "      <td>13</td>\n",
       "      <td>NaN</td>\n",
       "      <td>10</td>\n",
       "      <td>0</td>\n",
       "      <td>both</td>\n",
       "    </tr>\n",
       "    <tr>\n",
       "      <th>4</th>\n",
       "      <td>1</td>\n",
       "      <td>Chocolate Sandwich Cookies</td>\n",
       "      <td>61</td>\n",
       "      <td>19</td>\n",
       "      <td>5.800781</td>\n",
       "      <td>1813452</td>\n",
       "      <td>764</td>\n",
       "      <td>3</td>\n",
       "      <td>4</td>\n",
       "      <td>17</td>\n",
       "      <td>9.0</td>\n",
       "      <td>11</td>\n",
       "      <td>1</td>\n",
       "      <td>both</td>\n",
       "    </tr>\n",
       "  </tbody>\n",
       "</table>\n",
       "</div>"
      ],
      "text/plain": [
       "   product_id                product_name  aisle_id  department_id    prices  \\\n",
       "0           1  Chocolate Sandwich Cookies        61             19  5.800781   \n",
       "1           1  Chocolate Sandwich Cookies        61             19  5.800781   \n",
       "2           1  Chocolate Sandwich Cookies        61             19  5.800781   \n",
       "3           1  Chocolate Sandwich Cookies        61             19  5.800781   \n",
       "4           1  Chocolate Sandwich Cookies        61             19  5.800781   \n",
       "\n",
       "   order_id  user_id  order_number  orders_day_of_week  order_hour_of_day  \\\n",
       "0   3139998      138            28                   6                 11   \n",
       "1   1977647      138            30                   6                 17   \n",
       "2    389851      709             2                   0                 21   \n",
       "3    652770      764             1                   3                 13   \n",
       "4   1813452      764             3                   4                 17   \n",
       "\n",
       "   days_since_prior_order  add_to_cart_order  reordered _merge  \n",
       "0                     3.0                  5          0   both  \n",
       "1                    20.0                  1          1   both  \n",
       "2                     6.0                 20          0   both  \n",
       "3                     NaN                 10          0   both  \n",
       "4                     9.0                 11          1   both  "
      ]
     },
     "execution_count": 4,
     "metadata": {},
     "output_type": "execute_result"
    }
   ],
   "source": [
    "# Preview the dataframe by reviewing the top and tail ends of the dataset\n",
    "\n",
    "df_mega.head()"
   ]
  },
  {
   "cell_type": "code",
   "execution_count": 5,
   "id": "5942361d",
   "metadata": {},
   "outputs": [
    {
     "data": {
      "text/html": [
       "<div>\n",
       "<style scoped>\n",
       "    .dataframe tbody tr th:only-of-type {\n",
       "        vertical-align: middle;\n",
       "    }\n",
       "\n",
       "    .dataframe tbody tr th {\n",
       "        vertical-align: top;\n",
       "    }\n",
       "\n",
       "    .dataframe thead th {\n",
       "        text-align: right;\n",
       "    }\n",
       "</style>\n",
       "<table border=\"1\" class=\"dataframe\">\n",
       "  <thead>\n",
       "    <tr style=\"text-align: right;\">\n",
       "      <th></th>\n",
       "      <th>product_id</th>\n",
       "      <th>product_name</th>\n",
       "      <th>aisle_id</th>\n",
       "      <th>department_id</th>\n",
       "      <th>prices</th>\n",
       "      <th>order_id</th>\n",
       "      <th>user_id</th>\n",
       "      <th>order_number</th>\n",
       "      <th>orders_day_of_week</th>\n",
       "      <th>order_hour_of_day</th>\n",
       "      <th>days_since_prior_order</th>\n",
       "      <th>add_to_cart_order</th>\n",
       "      <th>reordered</th>\n",
       "      <th>_merge</th>\n",
       "    </tr>\n",
       "  </thead>\n",
       "  <tbody>\n",
       "    <tr>\n",
       "      <th>32433025</th>\n",
       "      <td>49688</td>\n",
       "      <td>Fresh Foaming Cleanser</td>\n",
       "      <td>73</td>\n",
       "      <td>11</td>\n",
       "      <td>13.5</td>\n",
       "      <td>1788356</td>\n",
       "      <td>200215</td>\n",
       "      <td>2</td>\n",
       "      <td>0</td>\n",
       "      <td>9</td>\n",
       "      <td>5.0</td>\n",
       "      <td>27</td>\n",
       "      <td>0</td>\n",
       "      <td>both</td>\n",
       "    </tr>\n",
       "    <tr>\n",
       "      <th>32433026</th>\n",
       "      <td>49688</td>\n",
       "      <td>Fresh Foaming Cleanser</td>\n",
       "      <td>73</td>\n",
       "      <td>11</td>\n",
       "      <td>13.5</td>\n",
       "      <td>3401313</td>\n",
       "      <td>200377</td>\n",
       "      <td>1</td>\n",
       "      <td>4</td>\n",
       "      <td>11</td>\n",
       "      <td>NaN</td>\n",
       "      <td>5</td>\n",
       "      <td>0</td>\n",
       "      <td>both</td>\n",
       "    </tr>\n",
       "    <tr>\n",
       "      <th>32433027</th>\n",
       "      <td>49688</td>\n",
       "      <td>Fresh Foaming Cleanser</td>\n",
       "      <td>73</td>\n",
       "      <td>11</td>\n",
       "      <td>13.5</td>\n",
       "      <td>809510</td>\n",
       "      <td>200873</td>\n",
       "      <td>5</td>\n",
       "      <td>3</td>\n",
       "      <td>8</td>\n",
       "      <td>15.0</td>\n",
       "      <td>12</td>\n",
       "      <td>0</td>\n",
       "      <td>both</td>\n",
       "    </tr>\n",
       "    <tr>\n",
       "      <th>32433028</th>\n",
       "      <td>49688</td>\n",
       "      <td>Fresh Foaming Cleanser</td>\n",
       "      <td>73</td>\n",
       "      <td>11</td>\n",
       "      <td>13.5</td>\n",
       "      <td>2359893</td>\n",
       "      <td>200873</td>\n",
       "      <td>9</td>\n",
       "      <td>3</td>\n",
       "      <td>15</td>\n",
       "      <td>5.0</td>\n",
       "      <td>11</td>\n",
       "      <td>1</td>\n",
       "      <td>both</td>\n",
       "    </tr>\n",
       "    <tr>\n",
       "      <th>32433029</th>\n",
       "      <td>49688</td>\n",
       "      <td>Fresh Foaming Cleanser</td>\n",
       "      <td>73</td>\n",
       "      <td>11</td>\n",
       "      <td>13.5</td>\n",
       "      <td>2385091</td>\n",
       "      <td>205926</td>\n",
       "      <td>11</td>\n",
       "      <td>1</td>\n",
       "      <td>15</td>\n",
       "      <td>6.0</td>\n",
       "      <td>35</td>\n",
       "      <td>0</td>\n",
       "      <td>both</td>\n",
       "    </tr>\n",
       "  </tbody>\n",
       "</table>\n",
       "</div>"
      ],
      "text/plain": [
       "          product_id            product_name  aisle_id  department_id  prices  \\\n",
       "32433025       49688  Fresh Foaming Cleanser        73             11    13.5   \n",
       "32433026       49688  Fresh Foaming Cleanser        73             11    13.5   \n",
       "32433027       49688  Fresh Foaming Cleanser        73             11    13.5   \n",
       "32433028       49688  Fresh Foaming Cleanser        73             11    13.5   \n",
       "32433029       49688  Fresh Foaming Cleanser        73             11    13.5   \n",
       "\n",
       "          order_id  user_id  order_number  orders_day_of_week  \\\n",
       "32433025   1788356   200215             2                   0   \n",
       "32433026   3401313   200377             1                   4   \n",
       "32433027    809510   200873             5                   3   \n",
       "32433028   2359893   200873             9                   3   \n",
       "32433029   2385091   205926            11                   1   \n",
       "\n",
       "          order_hour_of_day  days_since_prior_order  add_to_cart_order  \\\n",
       "32433025                  9                     5.0                 27   \n",
       "32433026                 11                     NaN                  5   \n",
       "32433027                  8                    15.0                 12   \n",
       "32433028                 15                     5.0                 11   \n",
       "32433029                 15                     6.0                 35   \n",
       "\n",
       "          reordered _merge  \n",
       "32433025          0   both  \n",
       "32433026          0   both  \n",
       "32433027          0   both  \n",
       "32433028          1   both  \n",
       "32433029          0   both  "
      ]
     },
     "execution_count": 5,
     "metadata": {},
     "output_type": "execute_result"
    }
   ],
   "source": [
    "df_mega.tail()"
   ]
  },
  {
   "cell_type": "code",
   "execution_count": 6,
   "id": "07c0e78c",
   "metadata": {},
   "outputs": [
    {
     "data": {
      "text/plain": [
       "(32433030, 14)"
      ]
     },
     "execution_count": 6,
     "metadata": {},
     "output_type": "execute_result"
    }
   ],
   "source": [
    "# Determine the number of rows and columns\n",
    "\n",
    "df_mega.shape"
   ]
  },
  {
   "cell_type": "code",
   "execution_count": 7,
   "id": "5dc7e76d",
   "metadata": {},
   "outputs": [
    {
     "name": "stdout",
     "output_type": "stream",
     "text": [
      "<class 'pandas.core.frame.DataFrame'>\n",
      "Int64Index: 32433030 entries, 0 to 32433029\n",
      "Data columns (total 14 columns):\n",
      " #   Column                  Dtype   \n",
      "---  ------                  -----   \n",
      " 0   product_id              int32   \n",
      " 1   product_name            object  \n",
      " 2   aisle_id                int16   \n",
      " 3   department_id           int8    \n",
      " 4   prices                  float16 \n",
      " 5   order_id                int32   \n",
      " 6   user_id                 int32   \n",
      " 7   order_number            int8    \n",
      " 8   orders_day_of_week      int8    \n",
      " 9   order_hour_of_day       int8    \n",
      " 10  days_since_prior_order  float16 \n",
      " 11  add_to_cart_order       int8    \n",
      " 12  reordered               int8    \n",
      " 13  _merge                  category\n",
      "dtypes: category(1), float16(2), int16(1), int32(3), int8(6), object(1)\n",
      "memory usage: 1.2+ GB\n"
     ]
    }
   ],
   "source": [
    "# Also checking the memory space consumed by the dataframe\n",
    "\n",
    "df_mega.info()"
   ]
  },
  {
   "cell_type": "code",
   "execution_count": 8,
   "id": "79c59fa7",
   "metadata": {},
   "outputs": [],
   "source": [
    "# At this point (for the sake of memory space), the '_merge' column can be dropped because it does not appear relevant \n",
    "\n",
    "df_mega = df_mega.drop(columns = ['_merge'])"
   ]
  },
  {
   "cell_type": "markdown",
   "id": "ac004b34",
   "metadata": {},
   "source": [
    "##  1.1 Creating price_label column {using the If-statements with the loc () function}"
   ]
  },
  {
   "cell_type": "code",
   "execution_count": 9,
   "id": "07fcb787",
   "metadata": {},
   "outputs": [],
   "source": [
    "# This function was chosen because its efficient and can be implemented throughout the entire dataframe (not just a subset)\n",
    "# Three categories of price labels wil be implemented\n",
    "# >15 , From <=15 to >5 and <=5. They will all have separate cells as seen below\n",
    "\n",
    "df_mega.loc[df_mega['prices'] > 15, 'price_range_loc'] = 'High range product'"
   ]
  },
  {
   "cell_type": "code",
   "execution_count": 10,
   "id": "5931a885",
   "metadata": {},
   "outputs": [],
   "source": [
    "df_mega.loc[(df_mega['prices'] <=15) & (df_mega['prices'] >5), 'price_range_loc'] = 'Mid range product'"
   ]
  },
  {
   "cell_type": "code",
   "execution_count": 11,
   "id": "84459629",
   "metadata": {},
   "outputs": [],
   "source": [
    "df_mega.loc[df_mega['prices'] <= 5, 'price_range_loc'] = 'Low range product'"
   ]
  },
  {
   "cell_type": "code",
   "execution_count": 12,
   "id": "e7b485ec",
   "metadata": {},
   "outputs": [
    {
     "data": {
      "text/plain": [
       "Mid range product     21889009\n",
       "Low range product     10126339\n",
       "High range product      417682\n",
       "Name: price_range_loc, dtype: int64"
      ]
     },
     "execution_count": 12,
     "metadata": {},
     "output_type": "execute_result"
    }
   ],
   "source": [
    "# To cross-check the count and make sure all rows were assigned a label we use\n",
    "\n",
    "df_mega['price_range_loc'].value_counts(dropna = False)"
   ]
  },
  {
   "cell_type": "code",
   "execution_count": 13,
   "id": "2117e807",
   "metadata": {},
   "outputs": [
    {
     "data": {
      "text/html": [
       "<div>\n",
       "<style scoped>\n",
       "    .dataframe tbody tr th:only-of-type {\n",
       "        vertical-align: middle;\n",
       "    }\n",
       "\n",
       "    .dataframe tbody tr th {\n",
       "        vertical-align: top;\n",
       "    }\n",
       "\n",
       "    .dataframe thead th {\n",
       "        text-align: right;\n",
       "    }\n",
       "</style>\n",
       "<table border=\"1\" class=\"dataframe\">\n",
       "  <thead>\n",
       "    <tr style=\"text-align: right;\">\n",
       "      <th></th>\n",
       "      <th>product_id</th>\n",
       "      <th>product_name</th>\n",
       "      <th>aisle_id</th>\n",
       "      <th>department_id</th>\n",
       "      <th>prices</th>\n",
       "      <th>order_id</th>\n",
       "      <th>user_id</th>\n",
       "      <th>order_number</th>\n",
       "      <th>orders_day_of_week</th>\n",
       "      <th>order_hour_of_day</th>\n",
       "      <th>days_since_prior_order</th>\n",
       "      <th>add_to_cart_order</th>\n",
       "      <th>reordered</th>\n",
       "      <th>price_range_loc</th>\n",
       "    </tr>\n",
       "  </thead>\n",
       "  <tbody>\n",
       "    <tr>\n",
       "      <th>0</th>\n",
       "      <td>1</td>\n",
       "      <td>Chocolate Sandwich Cookies</td>\n",
       "      <td>61</td>\n",
       "      <td>19</td>\n",
       "      <td>5.800781</td>\n",
       "      <td>3139998</td>\n",
       "      <td>138</td>\n",
       "      <td>28</td>\n",
       "      <td>6</td>\n",
       "      <td>11</td>\n",
       "      <td>3.0</td>\n",
       "      <td>5</td>\n",
       "      <td>0</td>\n",
       "      <td>Mid range product</td>\n",
       "    </tr>\n",
       "    <tr>\n",
       "      <th>1</th>\n",
       "      <td>1</td>\n",
       "      <td>Chocolate Sandwich Cookies</td>\n",
       "      <td>61</td>\n",
       "      <td>19</td>\n",
       "      <td>5.800781</td>\n",
       "      <td>1977647</td>\n",
       "      <td>138</td>\n",
       "      <td>30</td>\n",
       "      <td>6</td>\n",
       "      <td>17</td>\n",
       "      <td>20.0</td>\n",
       "      <td>1</td>\n",
       "      <td>1</td>\n",
       "      <td>Mid range product</td>\n",
       "    </tr>\n",
       "    <tr>\n",
       "      <th>2</th>\n",
       "      <td>1</td>\n",
       "      <td>Chocolate Sandwich Cookies</td>\n",
       "      <td>61</td>\n",
       "      <td>19</td>\n",
       "      <td>5.800781</td>\n",
       "      <td>389851</td>\n",
       "      <td>709</td>\n",
       "      <td>2</td>\n",
       "      <td>0</td>\n",
       "      <td>21</td>\n",
       "      <td>6.0</td>\n",
       "      <td>20</td>\n",
       "      <td>0</td>\n",
       "      <td>Mid range product</td>\n",
       "    </tr>\n",
       "    <tr>\n",
       "      <th>3</th>\n",
       "      <td>1</td>\n",
       "      <td>Chocolate Sandwich Cookies</td>\n",
       "      <td>61</td>\n",
       "      <td>19</td>\n",
       "      <td>5.800781</td>\n",
       "      <td>652770</td>\n",
       "      <td>764</td>\n",
       "      <td>1</td>\n",
       "      <td>3</td>\n",
       "      <td>13</td>\n",
       "      <td>NaN</td>\n",
       "      <td>10</td>\n",
       "      <td>0</td>\n",
       "      <td>Mid range product</td>\n",
       "    </tr>\n",
       "    <tr>\n",
       "      <th>4</th>\n",
       "      <td>1</td>\n",
       "      <td>Chocolate Sandwich Cookies</td>\n",
       "      <td>61</td>\n",
       "      <td>19</td>\n",
       "      <td>5.800781</td>\n",
       "      <td>1813452</td>\n",
       "      <td>764</td>\n",
       "      <td>3</td>\n",
       "      <td>4</td>\n",
       "      <td>17</td>\n",
       "      <td>9.0</td>\n",
       "      <td>11</td>\n",
       "      <td>1</td>\n",
       "      <td>Mid range product</td>\n",
       "    </tr>\n",
       "  </tbody>\n",
       "</table>\n",
       "</div>"
      ],
      "text/plain": [
       "   product_id                product_name  aisle_id  department_id    prices  \\\n",
       "0           1  Chocolate Sandwich Cookies        61             19  5.800781   \n",
       "1           1  Chocolate Sandwich Cookies        61             19  5.800781   \n",
       "2           1  Chocolate Sandwich Cookies        61             19  5.800781   \n",
       "3           1  Chocolate Sandwich Cookies        61             19  5.800781   \n",
       "4           1  Chocolate Sandwich Cookies        61             19  5.800781   \n",
       "\n",
       "   order_id  user_id  order_number  orders_day_of_week  order_hour_of_day  \\\n",
       "0   3139998      138            28                   6                 11   \n",
       "1   1977647      138            30                   6                 17   \n",
       "2    389851      709             2                   0                 21   \n",
       "3    652770      764             1                   3                 13   \n",
       "4   1813452      764             3                   4                 17   \n",
       "\n",
       "   days_since_prior_order  add_to_cart_order  reordered    price_range_loc  \n",
       "0                     3.0                  5          0  Mid range product  \n",
       "1                    20.0                  1          1  Mid range product  \n",
       "2                     6.0                 20          0  Mid range product  \n",
       "3                     NaN                 10          0  Mid range product  \n",
       "4                     9.0                 11          1  Mid range product  "
      ]
     },
     "execution_count": 13,
     "metadata": {},
     "output_type": "execute_result"
    }
   ],
   "source": [
    "# A summation of 21889009 + 10126339 + 417682 = 32433030 which is the total number of rows. So all rows has a price label.\n",
    "# We can also review the new dataframe\n",
    "\n",
    "df_mega.head()"
   ]
  },
  {
   "cell_type": "code",
   "execution_count": 14,
   "id": "15214ff5",
   "metadata": {},
   "outputs": [
    {
     "data": {
      "text/plain": [
       "(32433030, 14)"
      ]
     },
     "execution_count": 14,
     "metadata": {},
     "output_type": "execute_result"
    }
   ],
   "source": [
    "# New created column is at the extreme right. We can also reconfirm the number of rows and columns\n",
    "\n",
    "# N.B ****Number of columns is still 14 because the '_merge' column was initially removed\n",
    "\n",
    "df_mega.shape"
   ]
  },
  {
   "cell_type": "markdown",
   "id": "f1459b9d",
   "metadata": {},
   "source": [
    "## 1.2 Creating busiest_day column {using If- statements with For-Loops}"
   ]
  },
  {
   "cell_type": "code",
   "execution_count": 15,
   "id": "7c87039d",
   "metadata": {},
   "outputs": [
    {
     "data": {
      "text/plain": [
       "0    6209410\n",
       "1    5665604\n",
       "6    4500101\n",
       "2    4217610\n",
       "5    4209334\n",
       "3    3843929\n",
       "4    3787042\n",
       "Name: orders_day_of_week, dtype: int64"
      ]
     },
     "execution_count": 15,
     "metadata": {},
     "output_type": "execute_result"
    }
   ],
   "source": [
    "# First we establish the frequency of orders placed for each day of the week\n",
    "\n",
    "df_mega['orders_day_of_week'].value_counts(dropna = False)"
   ]
  },
  {
   "cell_type": "code",
   "execution_count": 16,
   "id": "14e28eb3",
   "metadata": {},
   "outputs": [],
   "source": [
    "# Its been established that the numbers 0 to 6 represent each day of the week. \n",
    "# Thus the day represented as 0 is the busiest, while 4 represents the least busy.\n",
    "# Effecting the code would be\n",
    "\n",
    "result = []\n",
    "\n",
    "for value in df_mega['orders_day_of_week']:\n",
    "    if value == 0:\n",
    "        result.append('Busiest day')\n",
    "    elif value == 4:\n",
    "        result.append('Least busy')\n",
    "    else:\n",
    "        result.append('Regularly busy')"
   ]
  },
  {
   "cell_type": "code",
   "execution_count": 17,
   "id": "ae583ecf",
   "metadata": {},
   "outputs": [],
   "source": [
    "# To include this with the df_mega dataframe, we equate the dataframe with the 'result' as below\n",
    "\n",
    "df_mega['activity_level'] = result"
   ]
  },
  {
   "cell_type": "code",
   "execution_count": 18,
   "id": "f394499d",
   "metadata": {},
   "outputs": [
    {
     "data": {
      "text/plain": [
       "Regularly busy    22436578\n",
       "Busiest day        6209410\n",
       "Least busy         3787042\n",
       "Name: activity_level, dtype: int64"
      ]
     },
     "execution_count": 18,
     "metadata": {},
     "output_type": "execute_result"
    }
   ],
   "source": [
    "# To confirm all rows were assigned an activity level tag:\n",
    "\n",
    "df_mega['activity_level'].value_counts(dropna = False)"
   ]
  },
  {
   "cell_type": "code",
   "execution_count": 19,
   "id": "877c8693",
   "metadata": {},
   "outputs": [
    {
     "data": {
      "text/html": [
       "<div>\n",
       "<style scoped>\n",
       "    .dataframe tbody tr th:only-of-type {\n",
       "        vertical-align: middle;\n",
       "    }\n",
       "\n",
       "    .dataframe tbody tr th {\n",
       "        vertical-align: top;\n",
       "    }\n",
       "\n",
       "    .dataframe thead th {\n",
       "        text-align: right;\n",
       "    }\n",
       "</style>\n",
       "<table border=\"1\" class=\"dataframe\">\n",
       "  <thead>\n",
       "    <tr style=\"text-align: right;\">\n",
       "      <th></th>\n",
       "      <th>product_id</th>\n",
       "      <th>product_name</th>\n",
       "      <th>aisle_id</th>\n",
       "      <th>department_id</th>\n",
       "      <th>prices</th>\n",
       "      <th>order_id</th>\n",
       "      <th>user_id</th>\n",
       "      <th>order_number</th>\n",
       "      <th>orders_day_of_week</th>\n",
       "      <th>order_hour_of_day</th>\n",
       "      <th>days_since_prior_order</th>\n",
       "      <th>add_to_cart_order</th>\n",
       "      <th>reordered</th>\n",
       "      <th>price_range_loc</th>\n",
       "      <th>activity_level</th>\n",
       "    </tr>\n",
       "  </thead>\n",
       "  <tbody>\n",
       "    <tr>\n",
       "      <th>0</th>\n",
       "      <td>1</td>\n",
       "      <td>Chocolate Sandwich Cookies</td>\n",
       "      <td>61</td>\n",
       "      <td>19</td>\n",
       "      <td>5.800781</td>\n",
       "      <td>3139998</td>\n",
       "      <td>138</td>\n",
       "      <td>28</td>\n",
       "      <td>6</td>\n",
       "      <td>11</td>\n",
       "      <td>3.0</td>\n",
       "      <td>5</td>\n",
       "      <td>0</td>\n",
       "      <td>Mid range product</td>\n",
       "      <td>Regularly busy</td>\n",
       "    </tr>\n",
       "    <tr>\n",
       "      <th>1</th>\n",
       "      <td>1</td>\n",
       "      <td>Chocolate Sandwich Cookies</td>\n",
       "      <td>61</td>\n",
       "      <td>19</td>\n",
       "      <td>5.800781</td>\n",
       "      <td>1977647</td>\n",
       "      <td>138</td>\n",
       "      <td>30</td>\n",
       "      <td>6</td>\n",
       "      <td>17</td>\n",
       "      <td>20.0</td>\n",
       "      <td>1</td>\n",
       "      <td>1</td>\n",
       "      <td>Mid range product</td>\n",
       "      <td>Regularly busy</td>\n",
       "    </tr>\n",
       "    <tr>\n",
       "      <th>2</th>\n",
       "      <td>1</td>\n",
       "      <td>Chocolate Sandwich Cookies</td>\n",
       "      <td>61</td>\n",
       "      <td>19</td>\n",
       "      <td>5.800781</td>\n",
       "      <td>389851</td>\n",
       "      <td>709</td>\n",
       "      <td>2</td>\n",
       "      <td>0</td>\n",
       "      <td>21</td>\n",
       "      <td>6.0</td>\n",
       "      <td>20</td>\n",
       "      <td>0</td>\n",
       "      <td>Mid range product</td>\n",
       "      <td>Busiest day</td>\n",
       "    </tr>\n",
       "    <tr>\n",
       "      <th>3</th>\n",
       "      <td>1</td>\n",
       "      <td>Chocolate Sandwich Cookies</td>\n",
       "      <td>61</td>\n",
       "      <td>19</td>\n",
       "      <td>5.800781</td>\n",
       "      <td>652770</td>\n",
       "      <td>764</td>\n",
       "      <td>1</td>\n",
       "      <td>3</td>\n",
       "      <td>13</td>\n",
       "      <td>NaN</td>\n",
       "      <td>10</td>\n",
       "      <td>0</td>\n",
       "      <td>Mid range product</td>\n",
       "      <td>Regularly busy</td>\n",
       "    </tr>\n",
       "    <tr>\n",
       "      <th>4</th>\n",
       "      <td>1</td>\n",
       "      <td>Chocolate Sandwich Cookies</td>\n",
       "      <td>61</td>\n",
       "      <td>19</td>\n",
       "      <td>5.800781</td>\n",
       "      <td>1813452</td>\n",
       "      <td>764</td>\n",
       "      <td>3</td>\n",
       "      <td>4</td>\n",
       "      <td>17</td>\n",
       "      <td>9.0</td>\n",
       "      <td>11</td>\n",
       "      <td>1</td>\n",
       "      <td>Mid range product</td>\n",
       "      <td>Least busy</td>\n",
       "    </tr>\n",
       "  </tbody>\n",
       "</table>\n",
       "</div>"
      ],
      "text/plain": [
       "   product_id                product_name  aisle_id  department_id    prices  \\\n",
       "0           1  Chocolate Sandwich Cookies        61             19  5.800781   \n",
       "1           1  Chocolate Sandwich Cookies        61             19  5.800781   \n",
       "2           1  Chocolate Sandwich Cookies        61             19  5.800781   \n",
       "3           1  Chocolate Sandwich Cookies        61             19  5.800781   \n",
       "4           1  Chocolate Sandwich Cookies        61             19  5.800781   \n",
       "\n",
       "   order_id  user_id  order_number  orders_day_of_week  order_hour_of_day  \\\n",
       "0   3139998      138            28                   6                 11   \n",
       "1   1977647      138            30                   6                 17   \n",
       "2    389851      709             2                   0                 21   \n",
       "3    652770      764             1                   3                 13   \n",
       "4   1813452      764             3                   4                 17   \n",
       "\n",
       "   days_since_prior_order  add_to_cart_order  reordered    price_range_loc  \\\n",
       "0                     3.0                  5          0  Mid range product   \n",
       "1                    20.0                  1          1  Mid range product   \n",
       "2                     6.0                 20          0  Mid range product   \n",
       "3                     NaN                 10          0  Mid range product   \n",
       "4                     9.0                 11          1  Mid range product   \n",
       "\n",
       "   activity_level  \n",
       "0  Regularly busy  \n",
       "1  Regularly busy  \n",
       "2     Busiest day  \n",
       "3  Regularly busy  \n",
       "4      Least busy  "
      ]
     },
     "execution_count": 19,
     "metadata": {},
     "output_type": "execute_result"
    }
   ],
   "source": [
    "# Just like the price label, all rows have the activity level designated. (22436578 + 6209410 + 3787042 = 32433030)\n",
    "# To review the inclusion of the column (situated at the far right end)\n",
    "\n",
    "df_mega.head()"
   ]
  },
  {
   "cell_type": "code",
   "execution_count": 20,
   "id": "de0d28fe",
   "metadata": {},
   "outputs": [
    {
     "data": {
      "text/plain": [
       "(32433030, 15)"
      ]
     },
     "execution_count": 20,
     "metadata": {},
     "output_type": "execute_result"
    }
   ],
   "source": [
    "# Confirming the new number of coulumns\n",
    "\n",
    "df_mega.shape"
   ]
  },
  {
   "cell_type": "markdown",
   "id": "118b7771",
   "metadata": {},
   "source": [
    "## 2.1 Clients prefer the inclusion of two Busiest and Slowest days (not 'Busiest day')"
   ]
  },
  {
   "cell_type": "code",
   "execution_count": 21,
   "id": "1122639d",
   "metadata": {},
   "outputs": [],
   "source": [
    "# For sake of memory space conservation, the 'activity_level' column will be removed and replaced with the client's preference\n",
    "\n",
    "df_mega = df_mega.drop(columns = ['activity_level'])"
   ]
  },
  {
   "cell_type": "code",
   "execution_count": 22,
   "id": "6aec7c7b",
   "metadata": {},
   "outputs": [
    {
     "data": {
      "text/plain": [
       "(32433030, 14)"
      ]
     },
     "execution_count": 22,
     "metadata": {},
     "output_type": "execute_result"
    }
   ],
   "source": [
    "# Confirming this removal\n",
    "\n",
    "df_mega.shape"
   ]
  },
  {
   "cell_type": "code",
   "execution_count": 23,
   "id": "e01e2989",
   "metadata": {},
   "outputs": [
    {
     "data": {
      "text/plain": [
       "0    6209410\n",
       "1    5665604\n",
       "6    4500101\n",
       "2    4217610\n",
       "5    4209334\n",
       "3    3843929\n",
       "4    3787042\n",
       "Name: orders_day_of_week, dtype: int64"
      ]
     },
     "execution_count": 23,
     "metadata": {},
     "output_type": "execute_result"
    }
   ],
   "source": [
    "# Now to modify the dataframe to include a new varaiable that highlights the two busiest and slowest days\n",
    "# Let's recap the frequency of the activity level during the days of the week\n",
    "\n",
    "df_mega['orders_day_of_week'].value_counts(dropna = False)"
   ]
  },
  {
   "cell_type": "code",
   "execution_count": 24,
   "id": "c182c38c",
   "metadata": {},
   "outputs": [],
   "source": [
    "# 0 & 1 are the two busiest days, while 3 & 4 are the slowest days. (2,5,6 will represent regular days)\n",
    "# The If-statements with For-Loops can be used\n",
    "\n",
    "result = []\n",
    "\n",
    "for value in df_mega['orders_day_of_week']:\n",
    "    if value <= 1:\n",
    "        result.append('Busiest days')\n",
    "    elif value >= 3 and value <= 4:\n",
    "        result.append('Slowest days')\n",
    "    else:\n",
    "        result.append('Regular days')"
   ]
  },
  {
   "cell_type": "code",
   "execution_count": 25,
   "id": "5d10c304",
   "metadata": {},
   "outputs": [],
   "source": [
    "# New Variable/Column will be 'activity_levels'\n",
    "\n",
    "df_mega['activity_levels'] = result"
   ]
  },
  {
   "cell_type": "code",
   "execution_count": 26,
   "id": "e6d929a6",
   "metadata": {},
   "outputs": [
    {
     "data": {
      "text/plain": [
       "Regular days    12927045\n",
       "Busiest days    11875014\n",
       "Slowest days     7630971\n",
       "Name: activity_levels, dtype: int64"
      ]
     },
     "execution_count": 26,
     "metadata": {},
     "output_type": "execute_result"
    }
   ],
   "source": [
    "# Cross-checking count to ensure accuracy\n",
    "\n",
    "df_mega['activity_levels'].value_counts(dropna = False)"
   ]
  },
  {
   "cell_type": "markdown",
   "id": "814d5599",
   "metadata": {},
   "source": [
    "##### **The Summation of each adds up to 32433030 . Days for 0 & 1 also add up to 11875014 for busiest days. Same for slowest and regular days "
   ]
  },
  {
   "cell_type": "code",
   "execution_count": 27,
   "id": "3ccccd6e",
   "metadata": {},
   "outputs": [
    {
     "data": {
      "text/html": [
       "<div>\n",
       "<style scoped>\n",
       "    .dataframe tbody tr th:only-of-type {\n",
       "        vertical-align: middle;\n",
       "    }\n",
       "\n",
       "    .dataframe tbody tr th {\n",
       "        vertical-align: top;\n",
       "    }\n",
       "\n",
       "    .dataframe thead th {\n",
       "        text-align: right;\n",
       "    }\n",
       "</style>\n",
       "<table border=\"1\" class=\"dataframe\">\n",
       "  <thead>\n",
       "    <tr style=\"text-align: right;\">\n",
       "      <th></th>\n",
       "      <th>product_id</th>\n",
       "      <th>product_name</th>\n",
       "      <th>aisle_id</th>\n",
       "      <th>department_id</th>\n",
       "      <th>prices</th>\n",
       "      <th>order_id</th>\n",
       "      <th>user_id</th>\n",
       "      <th>order_number</th>\n",
       "      <th>orders_day_of_week</th>\n",
       "      <th>order_hour_of_day</th>\n",
       "      <th>days_since_prior_order</th>\n",
       "      <th>add_to_cart_order</th>\n",
       "      <th>reordered</th>\n",
       "      <th>price_range_loc</th>\n",
       "      <th>activity_levels</th>\n",
       "    </tr>\n",
       "  </thead>\n",
       "  <tbody>\n",
       "    <tr>\n",
       "      <th>0</th>\n",
       "      <td>1</td>\n",
       "      <td>Chocolate Sandwich Cookies</td>\n",
       "      <td>61</td>\n",
       "      <td>19</td>\n",
       "      <td>5.800781</td>\n",
       "      <td>3139998</td>\n",
       "      <td>138</td>\n",
       "      <td>28</td>\n",
       "      <td>6</td>\n",
       "      <td>11</td>\n",
       "      <td>3.0</td>\n",
       "      <td>5</td>\n",
       "      <td>0</td>\n",
       "      <td>Mid range product</td>\n",
       "      <td>Regular days</td>\n",
       "    </tr>\n",
       "    <tr>\n",
       "      <th>1</th>\n",
       "      <td>1</td>\n",
       "      <td>Chocolate Sandwich Cookies</td>\n",
       "      <td>61</td>\n",
       "      <td>19</td>\n",
       "      <td>5.800781</td>\n",
       "      <td>1977647</td>\n",
       "      <td>138</td>\n",
       "      <td>30</td>\n",
       "      <td>6</td>\n",
       "      <td>17</td>\n",
       "      <td>20.0</td>\n",
       "      <td>1</td>\n",
       "      <td>1</td>\n",
       "      <td>Mid range product</td>\n",
       "      <td>Regular days</td>\n",
       "    </tr>\n",
       "    <tr>\n",
       "      <th>2</th>\n",
       "      <td>1</td>\n",
       "      <td>Chocolate Sandwich Cookies</td>\n",
       "      <td>61</td>\n",
       "      <td>19</td>\n",
       "      <td>5.800781</td>\n",
       "      <td>389851</td>\n",
       "      <td>709</td>\n",
       "      <td>2</td>\n",
       "      <td>0</td>\n",
       "      <td>21</td>\n",
       "      <td>6.0</td>\n",
       "      <td>20</td>\n",
       "      <td>0</td>\n",
       "      <td>Mid range product</td>\n",
       "      <td>Busiest days</td>\n",
       "    </tr>\n",
       "    <tr>\n",
       "      <th>3</th>\n",
       "      <td>1</td>\n",
       "      <td>Chocolate Sandwich Cookies</td>\n",
       "      <td>61</td>\n",
       "      <td>19</td>\n",
       "      <td>5.800781</td>\n",
       "      <td>652770</td>\n",
       "      <td>764</td>\n",
       "      <td>1</td>\n",
       "      <td>3</td>\n",
       "      <td>13</td>\n",
       "      <td>NaN</td>\n",
       "      <td>10</td>\n",
       "      <td>0</td>\n",
       "      <td>Mid range product</td>\n",
       "      <td>Slowest days</td>\n",
       "    </tr>\n",
       "    <tr>\n",
       "      <th>4</th>\n",
       "      <td>1</td>\n",
       "      <td>Chocolate Sandwich Cookies</td>\n",
       "      <td>61</td>\n",
       "      <td>19</td>\n",
       "      <td>5.800781</td>\n",
       "      <td>1813452</td>\n",
       "      <td>764</td>\n",
       "      <td>3</td>\n",
       "      <td>4</td>\n",
       "      <td>17</td>\n",
       "      <td>9.0</td>\n",
       "      <td>11</td>\n",
       "      <td>1</td>\n",
       "      <td>Mid range product</td>\n",
       "      <td>Slowest days</td>\n",
       "    </tr>\n",
       "  </tbody>\n",
       "</table>\n",
       "</div>"
      ],
      "text/plain": [
       "   product_id                product_name  aisle_id  department_id    prices  \\\n",
       "0           1  Chocolate Sandwich Cookies        61             19  5.800781   \n",
       "1           1  Chocolate Sandwich Cookies        61             19  5.800781   \n",
       "2           1  Chocolate Sandwich Cookies        61             19  5.800781   \n",
       "3           1  Chocolate Sandwich Cookies        61             19  5.800781   \n",
       "4           1  Chocolate Sandwich Cookies        61             19  5.800781   \n",
       "\n",
       "   order_id  user_id  order_number  orders_day_of_week  order_hour_of_day  \\\n",
       "0   3139998      138            28                   6                 11   \n",
       "1   1977647      138            30                   6                 17   \n",
       "2    389851      709             2                   0                 21   \n",
       "3    652770      764             1                   3                 13   \n",
       "4   1813452      764             3                   4                 17   \n",
       "\n",
       "   days_since_prior_order  add_to_cart_order  reordered    price_range_loc  \\\n",
       "0                     3.0                  5          0  Mid range product   \n",
       "1                    20.0                  1          1  Mid range product   \n",
       "2                     6.0                 20          0  Mid range product   \n",
       "3                     NaN                 10          0  Mid range product   \n",
       "4                     9.0                 11          1  Mid range product   \n",
       "\n",
       "  activity_levels  \n",
       "0    Regular days  \n",
       "1    Regular days  \n",
       "2    Busiest days  \n",
       "3    Slowest days  \n",
       "4    Slowest days  "
      ]
     },
     "execution_count": 27,
     "metadata": {},
     "output_type": "execute_result"
    }
   ],
   "source": [
    "# Checking overview to confirm inclusion\n",
    "\n",
    "df_mega.head()"
   ]
  },
  {
   "cell_type": "code",
   "execution_count": 28,
   "id": "a8cfc245",
   "metadata": {},
   "outputs": [
    {
     "data": {
      "text/plain": [
       "(32433030, 15)"
      ]
     },
     "execution_count": 28,
     "metadata": {},
     "output_type": "execute_result"
    }
   ],
   "source": [
    "# Newest column is located at the extreme right end\n",
    "\n",
    "df_mega.shape"
   ]
  },
  {
   "cell_type": "markdown",
   "id": "d5c80ed5",
   "metadata": {},
   "source": [
    "## 2.2 Clients also need to know the busiest periods in the day (according to level of orders by clients)"
   ]
  },
  {
   "cell_type": "code",
   "execution_count": 29,
   "id": "27b919fc",
   "metadata": {},
   "outputs": [
    {
     "data": {
      "text/plain": [
       "10    2764288\n",
       "11    2738483\n",
       "14    2691448\n",
       "15    2664420\n",
       "13    2663169\n",
       "12    2620719\n",
       "16    2537358\n",
       "9     2456591\n",
       "17    2089385\n",
       "8     1719888\n",
       "18    1637858\n",
       "19    1259335\n",
       "20     976991\n",
       "7      891900\n",
       "21     796341\n",
       "22     634715\n",
       "23     402593\n",
       "6      290763\n",
       "0      218925\n",
       "1      115780\n",
       "5       88054\n",
       "2       69429\n",
       "4       53280\n",
       "3       51317\n",
       "Name: order_hour_of_day, dtype: int64"
      ]
     },
     "execution_count": 29,
     "metadata": {},
     "output_type": "execute_result"
    }
   ],
   "source": [
    "# For this, a similar procedure will be carried out on 'order_hour_of_day' column.\n",
    "# First, the order frequency is determined for every hour of each day\n",
    "\n",
    "df_mega['order_hour_of_day'].value_counts(dropna = False)"
   ]
  },
  {
   "cell_type": "code",
   "execution_count": 30,
   "id": "8ae57df8",
   "metadata": {},
   "outputs": [],
   "source": [
    "# Client requires three categories - 'Most orders', 'Average orders' & 'Fewest orders'\n",
    "# So we can divide the hour-time vertically into 3 zones; The hours from 9 and vertically above will be grouped as Most orders.\n",
    "# From 6 and below can be considered as Fewest ordest, while the hours inbetween (9 & 6) will be taken for Average orders.\n",
    "\n",
    "result = []\n",
    "\n",
    "for value in df_mega['order_hour_of_day']:\n",
    "    if value >= 9 and value <= 16:\n",
    "        result.append('Most orders')\n",
    "    elif value <= 6:\n",
    "        result.append('Fewest orders')\n",
    "    else:\n",
    "        result.append('Average orders')"
   ]
  },
  {
   "cell_type": "code",
   "execution_count": 31,
   "id": "82b01392",
   "metadata": {},
   "outputs": [],
   "source": [
    "# The new Variable/Column will be 'busy_period_levels'\n",
    "\n",
    "df_mega['busy_period_levels'] = result"
   ]
  },
  {
   "cell_type": "code",
   "execution_count": 32,
   "id": "966c3ece",
   "metadata": {},
   "outputs": [
    {
     "data": {
      "text/plain": [
       "Most orders       21136476\n",
       "Average orders    10409006\n",
       "Fewest orders       887548\n",
       "Name: busy_period_levels, dtype: int64"
      ]
     },
     "execution_count": 32,
     "metadata": {},
     "output_type": "execute_result"
    }
   ],
   "source": [
    "# Cross-checking to ensure accuracy\n",
    "\n",
    "df_mega['busy_period_levels'].value_counts(dropna = False)"
   ]
  },
  {
   "cell_type": "code",
   "execution_count": 33,
   "id": "c781b63f",
   "metadata": {},
   "outputs": [
    {
     "data": {
      "text/html": [
       "<div>\n",
       "<style scoped>\n",
       "    .dataframe tbody tr th:only-of-type {\n",
       "        vertical-align: middle;\n",
       "    }\n",
       "\n",
       "    .dataframe tbody tr th {\n",
       "        vertical-align: top;\n",
       "    }\n",
       "\n",
       "    .dataframe thead th {\n",
       "        text-align: right;\n",
       "    }\n",
       "</style>\n",
       "<table border=\"1\" class=\"dataframe\">\n",
       "  <thead>\n",
       "    <tr style=\"text-align: right;\">\n",
       "      <th></th>\n",
       "      <th>product_id</th>\n",
       "      <th>product_name</th>\n",
       "      <th>aisle_id</th>\n",
       "      <th>department_id</th>\n",
       "      <th>prices</th>\n",
       "      <th>order_id</th>\n",
       "      <th>user_id</th>\n",
       "      <th>order_number</th>\n",
       "      <th>orders_day_of_week</th>\n",
       "      <th>order_hour_of_day</th>\n",
       "      <th>days_since_prior_order</th>\n",
       "      <th>add_to_cart_order</th>\n",
       "      <th>reordered</th>\n",
       "      <th>price_range_loc</th>\n",
       "      <th>activity_levels</th>\n",
       "      <th>busy_period_levels</th>\n",
       "    </tr>\n",
       "  </thead>\n",
       "  <tbody>\n",
       "    <tr>\n",
       "      <th>0</th>\n",
       "      <td>1</td>\n",
       "      <td>Chocolate Sandwich Cookies</td>\n",
       "      <td>61</td>\n",
       "      <td>19</td>\n",
       "      <td>5.800781</td>\n",
       "      <td>3139998</td>\n",
       "      <td>138</td>\n",
       "      <td>28</td>\n",
       "      <td>6</td>\n",
       "      <td>11</td>\n",
       "      <td>3.0</td>\n",
       "      <td>5</td>\n",
       "      <td>0</td>\n",
       "      <td>Mid range product</td>\n",
       "      <td>Regular days</td>\n",
       "      <td>Most orders</td>\n",
       "    </tr>\n",
       "    <tr>\n",
       "      <th>1</th>\n",
       "      <td>1</td>\n",
       "      <td>Chocolate Sandwich Cookies</td>\n",
       "      <td>61</td>\n",
       "      <td>19</td>\n",
       "      <td>5.800781</td>\n",
       "      <td>1977647</td>\n",
       "      <td>138</td>\n",
       "      <td>30</td>\n",
       "      <td>6</td>\n",
       "      <td>17</td>\n",
       "      <td>20.0</td>\n",
       "      <td>1</td>\n",
       "      <td>1</td>\n",
       "      <td>Mid range product</td>\n",
       "      <td>Regular days</td>\n",
       "      <td>Average orders</td>\n",
       "    </tr>\n",
       "    <tr>\n",
       "      <th>2</th>\n",
       "      <td>1</td>\n",
       "      <td>Chocolate Sandwich Cookies</td>\n",
       "      <td>61</td>\n",
       "      <td>19</td>\n",
       "      <td>5.800781</td>\n",
       "      <td>389851</td>\n",
       "      <td>709</td>\n",
       "      <td>2</td>\n",
       "      <td>0</td>\n",
       "      <td>21</td>\n",
       "      <td>6.0</td>\n",
       "      <td>20</td>\n",
       "      <td>0</td>\n",
       "      <td>Mid range product</td>\n",
       "      <td>Busiest days</td>\n",
       "      <td>Average orders</td>\n",
       "    </tr>\n",
       "    <tr>\n",
       "      <th>3</th>\n",
       "      <td>1</td>\n",
       "      <td>Chocolate Sandwich Cookies</td>\n",
       "      <td>61</td>\n",
       "      <td>19</td>\n",
       "      <td>5.800781</td>\n",
       "      <td>652770</td>\n",
       "      <td>764</td>\n",
       "      <td>1</td>\n",
       "      <td>3</td>\n",
       "      <td>13</td>\n",
       "      <td>NaN</td>\n",
       "      <td>10</td>\n",
       "      <td>0</td>\n",
       "      <td>Mid range product</td>\n",
       "      <td>Slowest days</td>\n",
       "      <td>Most orders</td>\n",
       "    </tr>\n",
       "    <tr>\n",
       "      <th>4</th>\n",
       "      <td>1</td>\n",
       "      <td>Chocolate Sandwich Cookies</td>\n",
       "      <td>61</td>\n",
       "      <td>19</td>\n",
       "      <td>5.800781</td>\n",
       "      <td>1813452</td>\n",
       "      <td>764</td>\n",
       "      <td>3</td>\n",
       "      <td>4</td>\n",
       "      <td>17</td>\n",
       "      <td>9.0</td>\n",
       "      <td>11</td>\n",
       "      <td>1</td>\n",
       "      <td>Mid range product</td>\n",
       "      <td>Slowest days</td>\n",
       "      <td>Average orders</td>\n",
       "    </tr>\n",
       "  </tbody>\n",
       "</table>\n",
       "</div>"
      ],
      "text/plain": [
       "   product_id                product_name  aisle_id  department_id    prices  \\\n",
       "0           1  Chocolate Sandwich Cookies        61             19  5.800781   \n",
       "1           1  Chocolate Sandwich Cookies        61             19  5.800781   \n",
       "2           1  Chocolate Sandwich Cookies        61             19  5.800781   \n",
       "3           1  Chocolate Sandwich Cookies        61             19  5.800781   \n",
       "4           1  Chocolate Sandwich Cookies        61             19  5.800781   \n",
       "\n",
       "   order_id  user_id  order_number  orders_day_of_week  order_hour_of_day  \\\n",
       "0   3139998      138            28                   6                 11   \n",
       "1   1977647      138            30                   6                 17   \n",
       "2    389851      709             2                   0                 21   \n",
       "3    652770      764             1                   3                 13   \n",
       "4   1813452      764             3                   4                 17   \n",
       "\n",
       "   days_since_prior_order  add_to_cart_order  reordered    price_range_loc  \\\n",
       "0                     3.0                  5          0  Mid range product   \n",
       "1                    20.0                  1          1  Mid range product   \n",
       "2                     6.0                 20          0  Mid range product   \n",
       "3                     NaN                 10          0  Mid range product   \n",
       "4                     9.0                 11          1  Mid range product   \n",
       "\n",
       "  activity_levels busy_period_levels  \n",
       "0    Regular days        Most orders  \n",
       "1    Regular days     Average orders  \n",
       "2    Busiest days     Average orders  \n",
       "3    Slowest days        Most orders  \n",
       "4    Slowest days     Average orders  "
      ]
     },
     "execution_count": 33,
     "metadata": {},
     "output_type": "execute_result"
    }
   ],
   "source": [
    "# N.B - Its quite coincidental that the busiest hours range from 9am to 4pm and the slowest hours from midnight to 6am.\n",
    "# This made it easy to range the busiest hours from 9 to 16 and 0 to 6 for slowest hours in the loop function\n",
    "\n",
    "# A quick overview of the dataframe to be presente to the clients\n",
    "\n",
    "df_mega.head()"
   ]
  },
  {
   "cell_type": "code",
   "execution_count": 34,
   "id": "e1617c8d",
   "metadata": {},
   "outputs": [
    {
     "data": {
      "text/plain": [
       "(32433030, 16)"
      ]
     },
     "execution_count": 34,
     "metadata": {},
     "output_type": "execute_result"
    }
   ],
   "source": [
    "# Confirmation of the shape as well\n",
    "\n",
    "df_mega.shape"
   ]
  },
  {
   "cell_type": "markdown",
   "id": "4effe797",
   "metadata": {},
   "source": [
    "##### Exporting dataframe in Pickle format"
   ]
  },
  {
   "cell_type": "code",
   "execution_count": 35,
   "id": "a515b96d",
   "metadata": {},
   "outputs": [],
   "source": [
    "# First define path\n",
    "\n",
    "path = r'C:\\Users\\IDONG'"
   ]
  },
  {
   "cell_type": "code",
   "execution_count": 36,
   "id": "09bb1051",
   "metadata": {},
   "outputs": [],
   "source": [
    "# Export data to pkl\n",
    "\n",
    "df_mega.to_pickle(os.path.join(path, 'Prepared Data', 'orders_products_clients.pkl'))"
   ]
  },
  {
   "cell_type": "code",
   "execution_count": null,
   "id": "cbd9453a",
   "metadata": {},
   "outputs": [],
   "source": []
  }
 ],
 "metadata": {
  "kernelspec": {
   "display_name": "Python 3 (ipykernel)",
   "language": "python",
   "name": "python3"
  },
  "language_info": {
   "codemirror_mode": {
    "name": "ipython",
    "version": 3
   },
   "file_extension": ".py",
   "mimetype": "text/x-python",
   "name": "python",
   "nbconvert_exporter": "python",
   "pygments_lexer": "ipython3",
   "version": "3.9.13"
  }
 },
 "nbformat": 4,
 "nbformat_minor": 5
}
