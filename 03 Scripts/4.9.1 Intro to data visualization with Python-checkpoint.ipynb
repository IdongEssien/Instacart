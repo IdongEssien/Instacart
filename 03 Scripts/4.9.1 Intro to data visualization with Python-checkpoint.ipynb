{
 "cells": [
  {
   "cell_type": "markdown",
   "id": "5221c741",
   "metadata": {},
   "source": [
    "# 1.0 Preparing the new customer data set for observation/analysis"
   ]
  },
  {
   "cell_type": "markdown",
   "id": "f3b54e4d",
   "metadata": {},
   "source": [
    "## List of Content\n",
    "##### 1.0 Preparing the new customer data set for observation/analysis\n",
    "\n",
    "- Carrying out wrangling checks\n",
    "- Conducting consistency and data quality checks\n",
    "\n",
    "##### 2.0 Import orders_products dataset for merge\n",
    "\n",
    "- Export df_visual as orders_customers_visual in pickle format"
   ]
  },
  {
   "cell_type": "code",
   "execution_count": 1,
   "id": "1d6976c0",
   "metadata": {},
   "outputs": [],
   "source": [
    "# Import libraries\n",
    "import pandas as pd\n",
    "import numpy as np\n",
    "import os"
   ]
  },
  {
   "cell_type": "code",
   "execution_count": 2,
   "id": "9d086761",
   "metadata": {},
   "outputs": [],
   "source": [
    "# Import the new customer dataset for part 1 of this exercise: as df_new_cust\n",
    "\n",
    "df_new_cust = pd.read_csv(r'C:\\Users\\IDONG\\Original data\\customers_new.csv', index_col = False)"
   ]
  },
  {
   "cell_type": "markdown",
   "id": "99341226",
   "metadata": {},
   "source": [
    "##### 1.1 Carrying out wrangling checks"
   ]
  },
  {
   "cell_type": "code",
   "execution_count": 3,
   "id": "6e4a3c88",
   "metadata": {},
   "outputs": [
    {
     "data": {
      "text/html": [
       "<div>\n",
       "<style scoped>\n",
       "    .dataframe tbody tr th:only-of-type {\n",
       "        vertical-align: middle;\n",
       "    }\n",
       "\n",
       "    .dataframe tbody tr th {\n",
       "        vertical-align: top;\n",
       "    }\n",
       "\n",
       "    .dataframe thead th {\n",
       "        text-align: right;\n",
       "    }\n",
       "</style>\n",
       "<table border=\"1\" class=\"dataframe\">\n",
       "  <thead>\n",
       "    <tr style=\"text-align: right;\">\n",
       "      <th></th>\n",
       "      <th>user_id</th>\n",
       "      <th>First Name</th>\n",
       "      <th>Surnam</th>\n",
       "      <th>Gender</th>\n",
       "      <th>STATE</th>\n",
       "      <th>Age</th>\n",
       "      <th>date_joined</th>\n",
       "      <th>n_dependants</th>\n",
       "      <th>fam_status</th>\n",
       "      <th>income</th>\n",
       "    </tr>\n",
       "  </thead>\n",
       "  <tbody>\n",
       "    <tr>\n",
       "      <th>0</th>\n",
       "      <td>26711</td>\n",
       "      <td>Deborah</td>\n",
       "      <td>Esquivel</td>\n",
       "      <td>Female</td>\n",
       "      <td>Missouri</td>\n",
       "      <td>48</td>\n",
       "      <td>1/1/2017</td>\n",
       "      <td>3</td>\n",
       "      <td>married</td>\n",
       "      <td>165665</td>\n",
       "    </tr>\n",
       "    <tr>\n",
       "      <th>1</th>\n",
       "      <td>33890</td>\n",
       "      <td>Patricia</td>\n",
       "      <td>Hart</td>\n",
       "      <td>Female</td>\n",
       "      <td>New Mexico</td>\n",
       "      <td>36</td>\n",
       "      <td>1/1/2017</td>\n",
       "      <td>0</td>\n",
       "      <td>single</td>\n",
       "      <td>59285</td>\n",
       "    </tr>\n",
       "    <tr>\n",
       "      <th>2</th>\n",
       "      <td>65803</td>\n",
       "      <td>Kenneth</td>\n",
       "      <td>Farley</td>\n",
       "      <td>Male</td>\n",
       "      <td>Idaho</td>\n",
       "      <td>35</td>\n",
       "      <td>1/1/2017</td>\n",
       "      <td>2</td>\n",
       "      <td>married</td>\n",
       "      <td>99568</td>\n",
       "    </tr>\n",
       "    <tr>\n",
       "      <th>3</th>\n",
       "      <td>125935</td>\n",
       "      <td>Michelle</td>\n",
       "      <td>Hicks</td>\n",
       "      <td>Female</td>\n",
       "      <td>Iowa</td>\n",
       "      <td>40</td>\n",
       "      <td>1/1/2017</td>\n",
       "      <td>0</td>\n",
       "      <td>single</td>\n",
       "      <td>42049</td>\n",
       "    </tr>\n",
       "    <tr>\n",
       "      <th>4</th>\n",
       "      <td>130797</td>\n",
       "      <td>Ann</td>\n",
       "      <td>Gilmore</td>\n",
       "      <td>Female</td>\n",
       "      <td>Maryland</td>\n",
       "      <td>26</td>\n",
       "      <td>1/1/2017</td>\n",
       "      <td>1</td>\n",
       "      <td>married</td>\n",
       "      <td>40374</td>\n",
       "    </tr>\n",
       "  </tbody>\n",
       "</table>\n",
       "</div>"
      ],
      "text/plain": [
       "   user_id First Name    Surnam  Gender       STATE  Age date_joined  \\\n",
       "0    26711    Deborah  Esquivel  Female    Missouri   48    1/1/2017   \n",
       "1    33890   Patricia      Hart  Female  New Mexico   36    1/1/2017   \n",
       "2    65803    Kenneth    Farley    Male       Idaho   35    1/1/2017   \n",
       "3   125935   Michelle     Hicks  Female        Iowa   40    1/1/2017   \n",
       "4   130797        Ann   Gilmore  Female    Maryland   26    1/1/2017   \n",
       "\n",
       "   n_dependants fam_status  income  \n",
       "0             3    married  165665  \n",
       "1             0     single   59285  \n",
       "2             2    married   99568  \n",
       "3             0     single   42049  \n",
       "4             1    married   40374  "
      ]
     },
     "execution_count": 3,
     "metadata": {},
     "output_type": "execute_result"
    }
   ],
   "source": [
    "# Performing normal preview of the dataframe\n",
    "\n",
    "df_new_cust.head()"
   ]
  },
  {
   "cell_type": "code",
   "execution_count": 4,
   "id": "0d4ae576",
   "metadata": {},
   "outputs": [
    {
     "data": {
      "text/plain": [
       "(206209, 10)"
      ]
     },
     "execution_count": 4,
     "metadata": {},
     "output_type": "execute_result"
    }
   ],
   "source": [
    "df_new_cust.shape"
   ]
  },
  {
   "cell_type": "code",
   "execution_count": 5,
   "id": "c7012666",
   "metadata": {},
   "outputs": [
    {
     "name": "stdout",
     "output_type": "stream",
     "text": [
      "<class 'pandas.core.frame.DataFrame'>\n",
      "RangeIndex: 206209 entries, 0 to 206208\n",
      "Data columns (total 10 columns):\n",
      " #   Column        Non-Null Count   Dtype \n",
      "---  ------        --------------   ----- \n",
      " 0   user_id       206209 non-null  int64 \n",
      " 1   First Name    194950 non-null  object\n",
      " 2   Surnam        206209 non-null  object\n",
      " 3   Gender        206209 non-null  object\n",
      " 4   STATE         206209 non-null  object\n",
      " 5   Age           206209 non-null  int64 \n",
      " 6   date_joined   206209 non-null  object\n",
      " 7   n_dependants  206209 non-null  int64 \n",
      " 8   fam_status    206209 non-null  object\n",
      " 9   income        206209 non-null  int64 \n",
      "dtypes: int64(4), object(6)\n",
      "memory usage: 15.7+ MB\n"
     ]
    }
   ],
   "source": [
    "# Memory consumed would not be much. For the sake of incoming imported data, its best to preserve space where possible\n",
    "\n",
    "df_new_cust.info()"
   ]
  },
  {
   "cell_type": "code",
   "execution_count": 6,
   "id": "618f1bf5",
   "metadata": {},
   "outputs": [],
   "source": [
    "df_new_cust[['user_id']] = df_new_cust[['user_id']].astype('int32')"
   ]
  },
  {
   "cell_type": "code",
   "execution_count": 7,
   "id": "bd5f1427",
   "metadata": {},
   "outputs": [],
   "source": [
    "df_new_cust[['Age']] = df_new_cust[['Age']].astype('int8')"
   ]
  },
  {
   "cell_type": "code",
   "execution_count": 8,
   "id": "f5db059a",
   "metadata": {},
   "outputs": [],
   "source": [
    "df_new_cust[['n_dependants']] = df_new_cust[['n_dependants']].astype('int8')"
   ]
  },
  {
   "cell_type": "code",
   "execution_count": 9,
   "id": "d687506c",
   "metadata": {},
   "outputs": [],
   "source": [
    "df_new_cust[['income']] = df_new_cust[['income']].astype('int32')"
   ]
  },
  {
   "cell_type": "code",
   "execution_count": 10,
   "id": "db346c12",
   "metadata": {},
   "outputs": [
    {
     "data": {
      "text/plain": [
       "Male      104067\n",
       "Female    102142\n",
       "Name: Gender, dtype: int64"
      ]
     },
     "execution_count": 10,
     "metadata": {},
     "output_type": "execute_result"
    }
   ],
   "source": [
    "# N.B - The 'Gender' variable could be changed to int. as the values are either male/female\n",
    "# A quick check\n",
    "\n",
    "df_new_cust['Gender'].value_counts(dropna = False)"
   ]
  },
  {
   "cell_type": "code",
   "execution_count": 11,
   "id": "932b82a8",
   "metadata": {},
   "outputs": [],
   "source": [
    "# Male can be represented as '1' and female as '2'\n",
    "# A new variable 'sex' would also be created\n",
    "\n",
    "df_new_cust.loc[df_new_cust['Gender'] == 'Male', 'sex'] = '1'"
   ]
  },
  {
   "cell_type": "code",
   "execution_count": 12,
   "id": "9abe7b3f",
   "metadata": {},
   "outputs": [],
   "source": [
    "df_new_cust.loc[df_new_cust['Gender'] == 'Female', 'sex'] = '2'"
   ]
  },
  {
   "cell_type": "code",
   "execution_count": 13,
   "id": "15eefb23",
   "metadata": {},
   "outputs": [
    {
     "data": {
      "text/plain": [
       "1    104067\n",
       "2    102142\n",
       "Name: sex, dtype: int64"
      ]
     },
     "execution_count": 13,
     "metadata": {},
     "output_type": "execute_result"
    }
   ],
   "source": [
    "df_new_cust['sex'].value_counts(dropna = False)"
   ]
  },
  {
   "cell_type": "code",
   "execution_count": 14,
   "id": "fb013034",
   "metadata": {},
   "outputs": [
    {
     "data": {
      "text/html": [
       "<div>\n",
       "<style scoped>\n",
       "    .dataframe tbody tr th:only-of-type {\n",
       "        vertical-align: middle;\n",
       "    }\n",
       "\n",
       "    .dataframe tbody tr th {\n",
       "        vertical-align: top;\n",
       "    }\n",
       "\n",
       "    .dataframe thead th {\n",
       "        text-align: right;\n",
       "    }\n",
       "</style>\n",
       "<table border=\"1\" class=\"dataframe\">\n",
       "  <thead>\n",
       "    <tr style=\"text-align: right;\">\n",
       "      <th></th>\n",
       "      <th>user_id</th>\n",
       "      <th>First Name</th>\n",
       "      <th>Surnam</th>\n",
       "      <th>Gender</th>\n",
       "      <th>STATE</th>\n",
       "      <th>Age</th>\n",
       "      <th>date_joined</th>\n",
       "      <th>n_dependants</th>\n",
       "      <th>fam_status</th>\n",
       "      <th>income</th>\n",
       "      <th>sex</th>\n",
       "    </tr>\n",
       "  </thead>\n",
       "  <tbody>\n",
       "    <tr>\n",
       "      <th>0</th>\n",
       "      <td>26711</td>\n",
       "      <td>Deborah</td>\n",
       "      <td>Esquivel</td>\n",
       "      <td>Female</td>\n",
       "      <td>Missouri</td>\n",
       "      <td>48</td>\n",
       "      <td>1/1/2017</td>\n",
       "      <td>3</td>\n",
       "      <td>married</td>\n",
       "      <td>165665</td>\n",
       "      <td>2</td>\n",
       "    </tr>\n",
       "    <tr>\n",
       "      <th>1</th>\n",
       "      <td>33890</td>\n",
       "      <td>Patricia</td>\n",
       "      <td>Hart</td>\n",
       "      <td>Female</td>\n",
       "      <td>New Mexico</td>\n",
       "      <td>36</td>\n",
       "      <td>1/1/2017</td>\n",
       "      <td>0</td>\n",
       "      <td>single</td>\n",
       "      <td>59285</td>\n",
       "      <td>2</td>\n",
       "    </tr>\n",
       "    <tr>\n",
       "      <th>2</th>\n",
       "      <td>65803</td>\n",
       "      <td>Kenneth</td>\n",
       "      <td>Farley</td>\n",
       "      <td>Male</td>\n",
       "      <td>Idaho</td>\n",
       "      <td>35</td>\n",
       "      <td>1/1/2017</td>\n",
       "      <td>2</td>\n",
       "      <td>married</td>\n",
       "      <td>99568</td>\n",
       "      <td>1</td>\n",
       "    </tr>\n",
       "    <tr>\n",
       "      <th>3</th>\n",
       "      <td>125935</td>\n",
       "      <td>Michelle</td>\n",
       "      <td>Hicks</td>\n",
       "      <td>Female</td>\n",
       "      <td>Iowa</td>\n",
       "      <td>40</td>\n",
       "      <td>1/1/2017</td>\n",
       "      <td>0</td>\n",
       "      <td>single</td>\n",
       "      <td>42049</td>\n",
       "      <td>2</td>\n",
       "    </tr>\n",
       "    <tr>\n",
       "      <th>4</th>\n",
       "      <td>130797</td>\n",
       "      <td>Ann</td>\n",
       "      <td>Gilmore</td>\n",
       "      <td>Female</td>\n",
       "      <td>Maryland</td>\n",
       "      <td>26</td>\n",
       "      <td>1/1/2017</td>\n",
       "      <td>1</td>\n",
       "      <td>married</td>\n",
       "      <td>40374</td>\n",
       "      <td>2</td>\n",
       "    </tr>\n",
       "  </tbody>\n",
       "</table>\n",
       "</div>"
      ],
      "text/plain": [
       "   user_id First Name    Surnam  Gender       STATE  Age date_joined  \\\n",
       "0    26711    Deborah  Esquivel  Female    Missouri   48    1/1/2017   \n",
       "1    33890   Patricia      Hart  Female  New Mexico   36    1/1/2017   \n",
       "2    65803    Kenneth    Farley    Male       Idaho   35    1/1/2017   \n",
       "3   125935   Michelle     Hicks  Female        Iowa   40    1/1/2017   \n",
       "4   130797        Ann   Gilmore  Female    Maryland   26    1/1/2017   \n",
       "\n",
       "   n_dependants fam_status  income sex  \n",
       "0             3    married  165665   2  \n",
       "1             0     single   59285   2  \n",
       "2             2    married   99568   1  \n",
       "3             0     single   42049   2  \n",
       "4             1    married   40374   2  "
      ]
     },
     "execution_count": 14,
     "metadata": {},
     "output_type": "execute_result"
    }
   ],
   "source": [
    "df_new_cust.head()"
   ]
  },
  {
   "cell_type": "code",
   "execution_count": 15,
   "id": "bb573613",
   "metadata": {},
   "outputs": [],
   "source": [
    "# Still trying to conserve memory space\n",
    "\n",
    "df_new_cust[['sex']] = df_new_cust[['sex']].astype('int8')"
   ]
  },
  {
   "cell_type": "code",
   "execution_count": 16,
   "id": "608be179",
   "metadata": {},
   "outputs": [],
   "source": [
    "# We can now remove the 'Gender' column\n",
    "\n",
    "df_new_cust = df_new_cust.drop(columns = ['Gender'])"
   ]
  },
  {
   "cell_type": "code",
   "execution_count": 17,
   "id": "62796f39",
   "metadata": {},
   "outputs": [
    {
     "data": {
      "text/html": [
       "<div>\n",
       "<style scoped>\n",
       "    .dataframe tbody tr th:only-of-type {\n",
       "        vertical-align: middle;\n",
       "    }\n",
       "\n",
       "    .dataframe tbody tr th {\n",
       "        vertical-align: top;\n",
       "    }\n",
       "\n",
       "    .dataframe thead th {\n",
       "        text-align: right;\n",
       "    }\n",
       "</style>\n",
       "<table border=\"1\" class=\"dataframe\">\n",
       "  <thead>\n",
       "    <tr style=\"text-align: right;\">\n",
       "      <th></th>\n",
       "      <th>user_id</th>\n",
       "      <th>First Name</th>\n",
       "      <th>Surnam</th>\n",
       "      <th>STATE</th>\n",
       "      <th>Age</th>\n",
       "      <th>date_joined</th>\n",
       "      <th>n_dependants</th>\n",
       "      <th>fam_status</th>\n",
       "      <th>income</th>\n",
       "      <th>sex</th>\n",
       "    </tr>\n",
       "  </thead>\n",
       "  <tbody>\n",
       "    <tr>\n",
       "      <th>0</th>\n",
       "      <td>26711</td>\n",
       "      <td>Deborah</td>\n",
       "      <td>Esquivel</td>\n",
       "      <td>Missouri</td>\n",
       "      <td>48</td>\n",
       "      <td>1/1/2017</td>\n",
       "      <td>3</td>\n",
       "      <td>married</td>\n",
       "      <td>165665</td>\n",
       "      <td>2</td>\n",
       "    </tr>\n",
       "    <tr>\n",
       "      <th>1</th>\n",
       "      <td>33890</td>\n",
       "      <td>Patricia</td>\n",
       "      <td>Hart</td>\n",
       "      <td>New Mexico</td>\n",
       "      <td>36</td>\n",
       "      <td>1/1/2017</td>\n",
       "      <td>0</td>\n",
       "      <td>single</td>\n",
       "      <td>59285</td>\n",
       "      <td>2</td>\n",
       "    </tr>\n",
       "    <tr>\n",
       "      <th>2</th>\n",
       "      <td>65803</td>\n",
       "      <td>Kenneth</td>\n",
       "      <td>Farley</td>\n",
       "      <td>Idaho</td>\n",
       "      <td>35</td>\n",
       "      <td>1/1/2017</td>\n",
       "      <td>2</td>\n",
       "      <td>married</td>\n",
       "      <td>99568</td>\n",
       "      <td>1</td>\n",
       "    </tr>\n",
       "    <tr>\n",
       "      <th>3</th>\n",
       "      <td>125935</td>\n",
       "      <td>Michelle</td>\n",
       "      <td>Hicks</td>\n",
       "      <td>Iowa</td>\n",
       "      <td>40</td>\n",
       "      <td>1/1/2017</td>\n",
       "      <td>0</td>\n",
       "      <td>single</td>\n",
       "      <td>42049</td>\n",
       "      <td>2</td>\n",
       "    </tr>\n",
       "    <tr>\n",
       "      <th>4</th>\n",
       "      <td>130797</td>\n",
       "      <td>Ann</td>\n",
       "      <td>Gilmore</td>\n",
       "      <td>Maryland</td>\n",
       "      <td>26</td>\n",
       "      <td>1/1/2017</td>\n",
       "      <td>1</td>\n",
       "      <td>married</td>\n",
       "      <td>40374</td>\n",
       "      <td>2</td>\n",
       "    </tr>\n",
       "  </tbody>\n",
       "</table>\n",
       "</div>"
      ],
      "text/plain": [
       "   user_id First Name    Surnam       STATE  Age date_joined  n_dependants  \\\n",
       "0    26711    Deborah  Esquivel    Missouri   48    1/1/2017             3   \n",
       "1    33890   Patricia      Hart  New Mexico   36    1/1/2017             0   \n",
       "2    65803    Kenneth    Farley       Idaho   35    1/1/2017             2   \n",
       "3   125935   Michelle     Hicks        Iowa   40    1/1/2017             0   \n",
       "4   130797        Ann   Gilmore    Maryland   26    1/1/2017             1   \n",
       "\n",
       "  fam_status  income  sex  \n",
       "0    married  165665    2  \n",
       "1     single   59285    2  \n",
       "2    married   99568    1  \n",
       "3     single   42049    2  \n",
       "4    married   40374    2  "
      ]
     },
     "execution_count": 17,
     "metadata": {},
     "output_type": "execute_result"
    }
   ],
   "source": [
    "# Confirming the changes made\n",
    "\n",
    "df_new_cust.head()"
   ]
  },
  {
   "cell_type": "code",
   "execution_count": 18,
   "id": "e14a718f",
   "metadata": {},
   "outputs": [
    {
     "name": "stdout",
     "output_type": "stream",
     "text": [
      "<class 'pandas.core.frame.DataFrame'>\n",
      "RangeIndex: 206209 entries, 0 to 206208\n",
      "Data columns (total 10 columns):\n",
      " #   Column        Non-Null Count   Dtype \n",
      "---  ------        --------------   ----- \n",
      " 0   user_id       206209 non-null  int32 \n",
      " 1   First Name    194950 non-null  object\n",
      " 2   Surnam        206209 non-null  object\n",
      " 3   STATE         206209 non-null  object\n",
      " 4   Age           206209 non-null  int8  \n",
      " 5   date_joined   206209 non-null  object\n",
      " 6   n_dependants  206209 non-null  int8  \n",
      " 7   fam_status    206209 non-null  object\n",
      " 8   income        206209 non-null  int32 \n",
      " 9   sex           206209 non-null  int8  \n",
      "dtypes: int32(2), int8(3), object(5)\n",
      "memory usage: 10.0+ MB\n"
     ]
    }
   ],
   "source": [
    "# Some memory has been saved. All in a bid to improve efficiency\n",
    "\n",
    "df_new_cust.info()"
   ]
  },
  {
   "cell_type": "code",
   "execution_count": 19,
   "id": "886e3c24",
   "metadata": {},
   "outputs": [],
   "source": [
    "# The variable names appear descent and understandable. But some modification will be carried for the sake of uniformity.\n",
    "# Like all headers should be in lower case ('STATE' to 'state') \n",
    "# Headers with two words should be separated by an underscore ('First Name' as 'first_name')\n",
    "\n",
    "df_new_cust.rename(columns = {'First Name' : 'first_name'}, inplace = True)"
   ]
  },
  {
   "cell_type": "code",
   "execution_count": 20,
   "id": "5defa4fe",
   "metadata": {},
   "outputs": [],
   "source": [
    "df_new_cust.rename(columns = {'Surnam' : 'last_name'}, inplace = True)"
   ]
  },
  {
   "cell_type": "code",
   "execution_count": 21,
   "id": "77d164fe",
   "metadata": {},
   "outputs": [],
   "source": [
    "df_new_cust.rename(columns = {'STATE' : 'state'}, inplace = True)"
   ]
  },
  {
   "cell_type": "code",
   "execution_count": 22,
   "id": "546bea1b",
   "metadata": {},
   "outputs": [],
   "source": [
    "df_new_cust.rename(columns = {'Age' : 'age'}, inplace = True)"
   ]
  },
  {
   "cell_type": "code",
   "execution_count": 23,
   "id": "f4c4df98",
   "metadata": {},
   "outputs": [],
   "source": [
    "df_new_cust.rename(columns = {'fam_status' : 'status'}, inplace = True)"
   ]
  },
  {
   "cell_type": "code",
   "execution_count": 24,
   "id": "a1467f5c",
   "metadata": {},
   "outputs": [
    {
     "data": {
      "text/html": [
       "<div>\n",
       "<style scoped>\n",
       "    .dataframe tbody tr th:only-of-type {\n",
       "        vertical-align: middle;\n",
       "    }\n",
       "\n",
       "    .dataframe tbody tr th {\n",
       "        vertical-align: top;\n",
       "    }\n",
       "\n",
       "    .dataframe thead th {\n",
       "        text-align: right;\n",
       "    }\n",
       "</style>\n",
       "<table border=\"1\" class=\"dataframe\">\n",
       "  <thead>\n",
       "    <tr style=\"text-align: right;\">\n",
       "      <th></th>\n",
       "      <th>user_id</th>\n",
       "      <th>age</th>\n",
       "      <th>n_dependants</th>\n",
       "      <th>income</th>\n",
       "      <th>sex</th>\n",
       "    </tr>\n",
       "  </thead>\n",
       "  <tbody>\n",
       "    <tr>\n",
       "      <th>count</th>\n",
       "      <td>206209.000000</td>\n",
       "      <td>206209.000000</td>\n",
       "      <td>206209.000000</td>\n",
       "      <td>206209.000000</td>\n",
       "      <td>206209.000000</td>\n",
       "    </tr>\n",
       "    <tr>\n",
       "      <th>mean</th>\n",
       "      <td>103105.000000</td>\n",
       "      <td>49.501646</td>\n",
       "      <td>1.499823</td>\n",
       "      <td>94632.852548</td>\n",
       "      <td>1.495332</td>\n",
       "    </tr>\n",
       "    <tr>\n",
       "      <th>std</th>\n",
       "      <td>59527.555167</td>\n",
       "      <td>18.480962</td>\n",
       "      <td>1.118433</td>\n",
       "      <td>42473.786988</td>\n",
       "      <td>0.499979</td>\n",
       "    </tr>\n",
       "    <tr>\n",
       "      <th>min</th>\n",
       "      <td>1.000000</td>\n",
       "      <td>18.000000</td>\n",
       "      <td>0.000000</td>\n",
       "      <td>25903.000000</td>\n",
       "      <td>1.000000</td>\n",
       "    </tr>\n",
       "    <tr>\n",
       "      <th>25%</th>\n",
       "      <td>51553.000000</td>\n",
       "      <td>33.000000</td>\n",
       "      <td>0.000000</td>\n",
       "      <td>59874.000000</td>\n",
       "      <td>1.000000</td>\n",
       "    </tr>\n",
       "    <tr>\n",
       "      <th>50%</th>\n",
       "      <td>103105.000000</td>\n",
       "      <td>49.000000</td>\n",
       "      <td>1.000000</td>\n",
       "      <td>93547.000000</td>\n",
       "      <td>1.000000</td>\n",
       "    </tr>\n",
       "    <tr>\n",
       "      <th>75%</th>\n",
       "      <td>154657.000000</td>\n",
       "      <td>66.000000</td>\n",
       "      <td>3.000000</td>\n",
       "      <td>124244.000000</td>\n",
       "      <td>2.000000</td>\n",
       "    </tr>\n",
       "    <tr>\n",
       "      <th>max</th>\n",
       "      <td>206209.000000</td>\n",
       "      <td>81.000000</td>\n",
       "      <td>3.000000</td>\n",
       "      <td>593901.000000</td>\n",
       "      <td>2.000000</td>\n",
       "    </tr>\n",
       "  </tbody>\n",
       "</table>\n",
       "</div>"
      ],
      "text/plain": [
       "             user_id            age   n_dependants         income  \\\n",
       "count  206209.000000  206209.000000  206209.000000  206209.000000   \n",
       "mean   103105.000000      49.501646       1.499823   94632.852548   \n",
       "std     59527.555167      18.480962       1.118433   42473.786988   \n",
       "min         1.000000      18.000000       0.000000   25903.000000   \n",
       "25%     51553.000000      33.000000       0.000000   59874.000000   \n",
       "50%    103105.000000      49.000000       1.000000   93547.000000   \n",
       "75%    154657.000000      66.000000       3.000000  124244.000000   \n",
       "max    206209.000000      81.000000       3.000000  593901.000000   \n",
       "\n",
       "                 sex  \n",
       "count  206209.000000  \n",
       "mean        1.495332  \n",
       "std         0.499979  \n",
       "min         1.000000  \n",
       "25%         1.000000  \n",
       "50%         1.000000  \n",
       "75%         2.000000  \n",
       "max         2.000000  "
      ]
     },
     "execution_count": 24,
     "metadata": {},
     "output_type": "execute_result"
    }
   ],
   "source": [
    "# No variable would be dropped yet, until the client objectives are fully understood. Further checks continue\n",
    "\n",
    "df_new_cust.describe()"
   ]
  },
  {
   "cell_type": "markdown",
   "id": "511243f0",
   "metadata": {},
   "source": [
    "**Nothing looks awkward from the stats above"
   ]
  },
  {
   "cell_type": "markdown",
   "id": "4ed92f2b",
   "metadata": {},
   "source": [
    "##### 1.2 Conducting consistency and data quality checks"
   ]
  },
  {
   "cell_type": "code",
   "execution_count": 25,
   "id": "c72526d1",
   "metadata": {},
   "outputs": [
    {
     "name": "stdout",
     "output_type": "stream",
     "text": [
      "first_name\n"
     ]
    }
   ],
   "source": [
    "# Checking for mixed type data\n",
    "\n",
    "for col in df_new_cust.columns.tolist():\n",
    "  weird = (df_new_cust[[col]].applymap(type) != df_new_cust[[col]].iloc[0].apply(type)).any(axis = 1)\n",
    "  if len (df_new_cust[weird]) > 0:\n",
    "    print (col)"
   ]
  },
  {
   "cell_type": "code",
   "execution_count": 26,
   "id": "c9e451ca",
   "metadata": {},
   "outputs": [],
   "source": [
    "# To make sure all values in the 'first_name' column are objects, we use the command below\n",
    "\n",
    "df_new_cust['first_name'] = df_new_cust['first_name'].astype('str')"
   ]
  },
  {
   "cell_type": "code",
   "execution_count": 27,
   "id": "b74d578d",
   "metadata": {},
   "outputs": [],
   "source": [
    "# To cross-check\n",
    "\n",
    "for col in df_new_cust.columns.tolist():\n",
    "  weird = (df_new_cust[[col]].applymap(type) != df_new_cust[[col]].iloc[0].apply(type)).any(axis = 1)\n",
    "  if len (df_new_cust[weird]) > 0:\n",
    "    print (col)"
   ]
  },
  {
   "cell_type": "code",
   "execution_count": 28,
   "id": "b289482d",
   "metadata": {},
   "outputs": [
    {
     "data": {
      "text/plain": [
       "user_id         0\n",
       "first_name      0\n",
       "last_name       0\n",
       "state           0\n",
       "age             0\n",
       "date_joined     0\n",
       "n_dependants    0\n",
       "status          0\n",
       "income          0\n",
       "sex             0\n",
       "dtype: int64"
      ]
     },
     "execution_count": 28,
     "metadata": {},
     "output_type": "execute_result"
    }
   ],
   "source": [
    "# Now checking for possible missing values\n",
    "\n",
    "df_new_cust.isnull().sum()"
   ]
  },
  {
   "cell_type": "code",
   "execution_count": 29,
   "id": "97d0a986",
   "metadata": {},
   "outputs": [],
   "source": [
    "# Checking for duplicates as well\n",
    "\n",
    "df_new_cust_dup = df_new_cust[df_new_cust.duplicated()]"
   ]
  },
  {
   "cell_type": "code",
   "execution_count": 30,
   "id": "a1d9774f",
   "metadata": {},
   "outputs": [
    {
     "data": {
      "text/html": [
       "<div>\n",
       "<style scoped>\n",
       "    .dataframe tbody tr th:only-of-type {\n",
       "        vertical-align: middle;\n",
       "    }\n",
       "\n",
       "    .dataframe tbody tr th {\n",
       "        vertical-align: top;\n",
       "    }\n",
       "\n",
       "    .dataframe thead th {\n",
       "        text-align: right;\n",
       "    }\n",
       "</style>\n",
       "<table border=\"1\" class=\"dataframe\">\n",
       "  <thead>\n",
       "    <tr style=\"text-align: right;\">\n",
       "      <th></th>\n",
       "      <th>user_id</th>\n",
       "      <th>first_name</th>\n",
       "      <th>last_name</th>\n",
       "      <th>state</th>\n",
       "      <th>age</th>\n",
       "      <th>date_joined</th>\n",
       "      <th>n_dependants</th>\n",
       "      <th>status</th>\n",
       "      <th>income</th>\n",
       "      <th>sex</th>\n",
       "    </tr>\n",
       "  </thead>\n",
       "  <tbody>\n",
       "  </tbody>\n",
       "</table>\n",
       "</div>"
      ],
      "text/plain": [
       "Empty DataFrame\n",
       "Columns: [user_id, first_name, last_name, state, age, date_joined, n_dependants, status, income, sex]\n",
       "Index: []"
      ]
     },
     "execution_count": 30,
     "metadata": {},
     "output_type": "execute_result"
    }
   ],
   "source": [
    "df_new_cust_dup"
   ]
  },
  {
   "cell_type": "code",
   "execution_count": 31,
   "id": "9999bbd6",
   "metadata": {},
   "outputs": [
    {
     "data": {
      "text/plain": [
       "(206209, 10)"
      ]
     },
     "execution_count": 31,
     "metadata": {},
     "output_type": "execute_result"
    }
   ],
   "source": [
    "# Final check before merge \n",
    "\n",
    "df_new_cust.shape"
   ]
  },
  {
   "cell_type": "code",
   "execution_count": 32,
   "id": "ce2ca752",
   "metadata": {},
   "outputs": [
    {
     "data": {
      "text/html": [
       "<div>\n",
       "<style scoped>\n",
       "    .dataframe tbody tr th:only-of-type {\n",
       "        vertical-align: middle;\n",
       "    }\n",
       "\n",
       "    .dataframe tbody tr th {\n",
       "        vertical-align: top;\n",
       "    }\n",
       "\n",
       "    .dataframe thead th {\n",
       "        text-align: right;\n",
       "    }\n",
       "</style>\n",
       "<table border=\"1\" class=\"dataframe\">\n",
       "  <thead>\n",
       "    <tr style=\"text-align: right;\">\n",
       "      <th></th>\n",
       "      <th>user_id</th>\n",
       "      <th>first_name</th>\n",
       "      <th>last_name</th>\n",
       "      <th>state</th>\n",
       "      <th>age</th>\n",
       "      <th>date_joined</th>\n",
       "      <th>n_dependants</th>\n",
       "      <th>status</th>\n",
       "      <th>income</th>\n",
       "      <th>sex</th>\n",
       "    </tr>\n",
       "  </thead>\n",
       "  <tbody>\n",
       "    <tr>\n",
       "      <th>0</th>\n",
       "      <td>26711</td>\n",
       "      <td>Deborah</td>\n",
       "      <td>Esquivel</td>\n",
       "      <td>Missouri</td>\n",
       "      <td>48</td>\n",
       "      <td>1/1/2017</td>\n",
       "      <td>3</td>\n",
       "      <td>married</td>\n",
       "      <td>165665</td>\n",
       "      <td>2</td>\n",
       "    </tr>\n",
       "    <tr>\n",
       "      <th>1</th>\n",
       "      <td>33890</td>\n",
       "      <td>Patricia</td>\n",
       "      <td>Hart</td>\n",
       "      <td>New Mexico</td>\n",
       "      <td>36</td>\n",
       "      <td>1/1/2017</td>\n",
       "      <td>0</td>\n",
       "      <td>single</td>\n",
       "      <td>59285</td>\n",
       "      <td>2</td>\n",
       "    </tr>\n",
       "    <tr>\n",
       "      <th>2</th>\n",
       "      <td>65803</td>\n",
       "      <td>Kenneth</td>\n",
       "      <td>Farley</td>\n",
       "      <td>Idaho</td>\n",
       "      <td>35</td>\n",
       "      <td>1/1/2017</td>\n",
       "      <td>2</td>\n",
       "      <td>married</td>\n",
       "      <td>99568</td>\n",
       "      <td>1</td>\n",
       "    </tr>\n",
       "    <tr>\n",
       "      <th>3</th>\n",
       "      <td>125935</td>\n",
       "      <td>Michelle</td>\n",
       "      <td>Hicks</td>\n",
       "      <td>Iowa</td>\n",
       "      <td>40</td>\n",
       "      <td>1/1/2017</td>\n",
       "      <td>0</td>\n",
       "      <td>single</td>\n",
       "      <td>42049</td>\n",
       "      <td>2</td>\n",
       "    </tr>\n",
       "    <tr>\n",
       "      <th>4</th>\n",
       "      <td>130797</td>\n",
       "      <td>Ann</td>\n",
       "      <td>Gilmore</td>\n",
       "      <td>Maryland</td>\n",
       "      <td>26</td>\n",
       "      <td>1/1/2017</td>\n",
       "      <td>1</td>\n",
       "      <td>married</td>\n",
       "      <td>40374</td>\n",
       "      <td>2</td>\n",
       "    </tr>\n",
       "  </tbody>\n",
       "</table>\n",
       "</div>"
      ],
      "text/plain": [
       "   user_id first_name last_name       state  age date_joined  n_dependants  \\\n",
       "0    26711    Deborah  Esquivel    Missouri   48    1/1/2017             3   \n",
       "1    33890   Patricia      Hart  New Mexico   36    1/1/2017             0   \n",
       "2    65803    Kenneth    Farley       Idaho   35    1/1/2017             2   \n",
       "3   125935   Michelle     Hicks        Iowa   40    1/1/2017             0   \n",
       "4   130797        Ann   Gilmore    Maryland   26    1/1/2017             1   \n",
       "\n",
       "    status  income  sex  \n",
       "0  married  165665    2  \n",
       "1   single   59285    2  \n",
       "2  married   99568    1  \n",
       "3   single   42049    2  \n",
       "4  married   40374    2  "
      ]
     },
     "execution_count": 32,
     "metadata": {},
     "output_type": "execute_result"
    }
   ],
   "source": [
    "df_new_cust.head()"
   ]
  },
  {
   "cell_type": "markdown",
   "id": "7b7b4a36",
   "metadata": {},
   "source": [
    "# 2.0 Import orders_products dataset for merge"
   ]
  },
  {
   "cell_type": "code",
   "execution_count": 33,
   "id": "d2e9ac1e",
   "metadata": {},
   "outputs": [],
   "source": [
    "# Importing orders_products data set as df_mega\n",
    "\n",
    "df_mega = pd.read_pickle(r'C:\\Users\\IDONG\\Prepared data\\orders_products_grouped_corrected.pkl')"
   ]
  },
  {
   "cell_type": "code",
   "execution_count": 34,
   "id": "1fb287f0",
   "metadata": {},
   "outputs": [
    {
     "data": {
      "text/plain": [
       "(32433030, 22)"
      ]
     },
     "execution_count": 34,
     "metadata": {},
     "output_type": "execute_result"
    }
   ],
   "source": [
    "# Checking the imported dataframe\n",
    "\n",
    "df_mega.shape"
   ]
  },
  {
   "cell_type": "code",
   "execution_count": 35,
   "id": "010aa1bb",
   "metadata": {},
   "outputs": [
    {
     "data": {
      "text/plain": [
       "Index(['product_id', 'product_name', 'aisle_id', 'department_id', 'prices',\n",
       "       'order_id', 'user_id', 'order_number', 'orders_day_of_week',\n",
       "       'order_hour_of_day', 'days_since_prior_order', 'add_to_cart_order',\n",
       "       'reordered', 'price_range_loc', 'activity_levels', 'busy_period_levels',\n",
       "       'max_order', 'loyalty_flag', 'av_price', 'spending_flag', 'ord_freq',\n",
       "       'frequency_flag'],\n",
       "      dtype='object')"
      ]
     },
     "execution_count": 35,
     "metadata": {},
     "output_type": "execute_result"
    }
   ],
   "source": [
    "# A quick review of the columns to identify a common (key) column\n",
    "\n",
    "df_mega.columns"
   ]
  },
  {
   "cell_type": "code",
   "execution_count": 36,
   "id": "a4ae82a5",
   "metadata": {},
   "outputs": [
    {
     "name": "stdout",
     "output_type": "stream",
     "text": [
      "<class 'pandas.core.frame.DataFrame'>\n",
      "Int64Index: 32433030 entries, 0 to 32433029\n",
      "Data columns (total 22 columns):\n",
      " #   Column                  Dtype  \n",
      "---  ------                  -----  \n",
      " 0   product_id              int32  \n",
      " 1   product_name            object \n",
      " 2   aisle_id                int16  \n",
      " 3   department_id           int8   \n",
      " 4   prices                  float16\n",
      " 5   order_id                int32  \n",
      " 6   user_id                 int32  \n",
      " 7   order_number            int8   \n",
      " 8   orders_day_of_week      int8   \n",
      " 9   order_hour_of_day       int8   \n",
      " 10  days_since_prior_order  float16\n",
      " 11  add_to_cart_order       int8   \n",
      " 12  reordered               int8   \n",
      " 13  price_range_loc         object \n",
      " 14  activity_levels         object \n",
      " 15  busy_period_levels      object \n",
      " 16  max_order               int8   \n",
      " 17  loyalty_flag            object \n",
      " 18  av_price                float16\n",
      " 19  spending_flag           object \n",
      " 20  ord_freq                float16\n",
      " 21  frequency_flag          object \n",
      "dtypes: float16(4), int16(1), int32(3), int8(7), object(7)\n",
      "memory usage: 2.8+ GB\n"
     ]
    }
   ],
   "source": [
    "# Checking the memory space of dataframe\n",
    "\n",
    "df_mega.info()"
   ]
  },
  {
   "cell_type": "code",
   "execution_count": 37,
   "id": "9c3ae153",
   "metadata": {},
   "outputs": [],
   "source": [
    "# Before merge it's necessary to remove unwanted columns because of memory space and efficiency. To also avoid system crash\n",
    "# (N.B - Some needed columns like loyalty_flag were also removed, but can still be re-created subsequently)\n",
    "\n",
    "df_mega = df_mega.drop(columns = ['activity_levels', 'loyalty_flag', 'spending_flag', 'frequency_flag', 'busy_period_levels', 'order_id', 'product_id', 'ord_freq', 'aisle_id', 'av_price', 'max_order', 'reordered', 'add_to_cart_order', 'price_range_loc'])"
   ]
  },
  {
   "cell_type": "code",
   "execution_count": 38,
   "id": "9c086525",
   "metadata": {},
   "outputs": [
    {
     "data": {
      "text/plain": [
       "(32433030, 8)"
      ]
     },
     "execution_count": 38,
     "metadata": {},
     "output_type": "execute_result"
    }
   ],
   "source": [
    "# Confirming the effect of the change and memory space recovered.\n",
    "# The needed columns that form the foundation for recreation of derived variables were maintained. \n",
    "\n",
    "df_mega.shape"
   ]
  },
  {
   "cell_type": "code",
   "execution_count": 39,
   "id": "e692a37d",
   "metadata": {},
   "outputs": [
    {
     "name": "stdout",
     "output_type": "stream",
     "text": [
      "<class 'pandas.core.frame.DataFrame'>\n",
      "Int64Index: 32433030 entries, 0 to 32433029\n",
      "Data columns (total 8 columns):\n",
      " #   Column                  Dtype  \n",
      "---  ------                  -----  \n",
      " 0   product_name            object \n",
      " 1   department_id           int8   \n",
      " 2   prices                  float16\n",
      " 3   user_id                 int32  \n",
      " 4   order_number            int8   \n",
      " 5   orders_day_of_week      int8   \n",
      " 6   order_hour_of_day       int8   \n",
      " 7   days_since_prior_order  float16\n",
      "dtypes: float16(2), int32(1), int8(4), object(1)\n",
      "memory usage: 866.1+ MB\n"
     ]
    }
   ],
   "source": [
    "df_mega.info()"
   ]
  },
  {
   "cell_type": "code",
   "execution_count": 41,
   "id": "2c8d947b",
   "metadata": {},
   "outputs": [],
   "source": [
    "# The merge of the datasets will be represented as 'df_visual'\n",
    "\n",
    "df_visual = df_new_cust.merge(df_mega, on = 'user_id', indicator = True)"
   ]
  },
  {
   "cell_type": "code",
   "execution_count": 42,
   "id": "44bd6520",
   "metadata": {},
   "outputs": [
    {
     "data": {
      "text/plain": [
       "(32433030, 18)"
      ]
     },
     "execution_count": 42,
     "metadata": {},
     "output_type": "execute_result"
    }
   ],
   "source": [
    "# Checking the dimensions of the new dataframe\n",
    "\n",
    "df_visual.shape"
   ]
  },
  {
   "cell_type": "code",
   "execution_count": 43,
   "id": "686c9916",
   "metadata": {},
   "outputs": [
    {
     "data": {
      "text/plain": [
       "both          32433030\n",
       "left_only            0\n",
       "right_only           0\n",
       "Name: _merge, dtype: int64"
      ]
     },
     "execution_count": 43,
     "metadata": {},
     "output_type": "execute_result"
    }
   ],
   "source": [
    "# Confirming the merge was effective\n",
    "\n",
    "df_visual['_merge'].value_counts()"
   ]
  },
  {
   "cell_type": "code",
   "execution_count": 44,
   "id": "7f815b04",
   "metadata": {},
   "outputs": [
    {
     "data": {
      "text/plain": [
       "Index(['user_id', 'first_name', 'last_name', 'state', 'age', 'date_joined',\n",
       "       'n_dependants', 'status', 'income', 'sex', 'product_name',\n",
       "       'department_id', 'prices', 'order_number', 'orders_day_of_week',\n",
       "       'order_hour_of_day', 'days_since_prior_order', '_merge'],\n",
       "      dtype='object')"
      ]
     },
     "execution_count": 44,
     "metadata": {},
     "output_type": "execute_result"
    }
   ],
   "source": [
    "# Checking the list of columns.\n",
    "\n",
    "df_visual.columns"
   ]
  },
  {
   "cell_type": "code",
   "execution_count": 45,
   "id": "203f2c08",
   "metadata": {},
   "outputs": [],
   "source": [
    "# The 'merge' column would be deleted\n",
    "\n",
    "df_visual = df_visual.drop(columns = ['_merge'])"
   ]
  },
  {
   "cell_type": "code",
   "execution_count": 46,
   "id": "1b6993c5",
   "metadata": {},
   "outputs": [
    {
     "data": {
      "text/plain": [
       "(32433030, 17)"
      ]
     },
     "execution_count": 46,
     "metadata": {},
     "output_type": "execute_result"
    }
   ],
   "source": [
    "# Final check before exporting dataframe\n",
    "\n",
    "df_visual.shape"
   ]
  },
  {
   "cell_type": "markdown",
   "id": "30637a23",
   "metadata": {},
   "source": [
    "##### Export df_visual as orders_customers_visual in pickle format"
   ]
  },
  {
   "cell_type": "code",
   "execution_count": 47,
   "id": "4c1412a2",
   "metadata": {},
   "outputs": [],
   "source": [
    "# Define path\n",
    "\n",
    "path = r'C:\\Users\\IDONG'"
   ]
  },
  {
   "cell_type": "code",
   "execution_count": 48,
   "id": "411e0a7e",
   "metadata": {},
   "outputs": [],
   "source": [
    "df_visual.to_pickle(os.path.join(path, 'Prepared Data', 'orders_customers_visual.pkl'))"
   ]
  },
  {
   "cell_type": "code",
   "execution_count": null,
   "id": "83f7b39e",
   "metadata": {},
   "outputs": [],
   "source": []
  }
 ],
 "metadata": {
  "kernelspec": {
   "display_name": "Python 3 (ipykernel)",
   "language": "python",
   "name": "python3"
  },
  "language_info": {
   "codemirror_mode": {
    "name": "ipython",
    "version": 3
   },
   "file_extension": ".py",
   "mimetype": "text/x-python",
   "name": "python",
   "nbconvert_exporter": "python",
   "pygments_lexer": "ipython3",
   "version": "3.9.13"
  }
 },
 "nbformat": 4,
 "nbformat_minor": 5
}
