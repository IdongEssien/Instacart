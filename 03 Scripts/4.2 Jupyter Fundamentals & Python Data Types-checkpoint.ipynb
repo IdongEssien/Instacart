{
 "cells": [
  {
   "cell_type": "code",
   "execution_count": 1,
   "id": "254a1aa0",
   "metadata": {},
   "outputs": [],
   "source": [
    "# Import libraries\n",
    "import pandas as pd\n",
    "import numpy as np\n",
    "import os"
   ]
  },
  {
   "cell_type": "code",
   "execution_count": 1,
   "id": "e7c18be1",
   "metadata": {},
   "outputs": [],
   "source": [
    "x = 80"
   ]
  },
  {
   "cell_type": "code",
   "execution_count": 2,
   "id": "8e271415",
   "metadata": {},
   "outputs": [],
   "source": [
    "y = 20"
   ]
  },
  {
   "cell_type": "code",
   "execution_count": 3,
   "id": "402abe5f",
   "metadata": {},
   "outputs": [],
   "source": [
    "a = 15"
   ]
  },
  {
   "cell_type": "code",
   "execution_count": 4,
   "id": "61371fa6",
   "metadata": {},
   "outputs": [],
   "source": [
    "b = 115"
   ]
  },
  {
   "cell_type": "code",
   "execution_count": 5,
   "id": "1e0e6b57",
   "metadata": {},
   "outputs": [],
   "source": [
    "d = 99"
   ]
  },
  {
   "cell_type": "code",
   "execution_count": 6,
   "id": "ce80e83f",
   "metadata": {},
   "outputs": [],
   "source": [
    "e = 1"
   ]
  },
  {
   "cell_type": "code",
   "execution_count": 7,
   "id": "5818505e",
   "metadata": {},
   "outputs": [
    {
     "data": {
      "text/plain": [
       "100"
      ]
     },
     "execution_count": 7,
     "metadata": {},
     "output_type": "execute_result"
    }
   ],
   "source": [
    "x + y"
   ]
  },
  {
   "cell_type": "code",
   "execution_count": 8,
   "id": "d36b6e84",
   "metadata": {},
   "outputs": [
    {
     "data": {
      "text/plain": [
       "100"
      ]
     },
     "execution_count": 8,
     "metadata": {},
     "output_type": "execute_result"
    }
   ],
   "source": [
    "b - a"
   ]
  },
  {
   "cell_type": "code",
   "execution_count": 9,
   "id": "c2517b32",
   "metadata": {},
   "outputs": [
    {
     "data": {
      "text/plain": [
       "100"
      ]
     },
     "execution_count": 9,
     "metadata": {},
     "output_type": "execute_result"
    }
   ],
   "source": [
    "d + e"
   ]
  },
  {
   "cell_type": "code",
   "execution_count": 10,
   "id": "cc09fafa",
   "metadata": {},
   "outputs": [],
   "source": [
    "f = 25.985"
   ]
  },
  {
   "cell_type": "code",
   "execution_count": 11,
   "id": "b7f7dbc8",
   "metadata": {},
   "outputs": [],
   "source": [
    "g = 5.15"
   ]
  },
  {
   "cell_type": "code",
   "execution_count": 12,
   "id": "42a56423",
   "metadata": {},
   "outputs": [
    {
     "data": {
      "text/plain": [
       "5.045631067961165"
      ]
     },
     "execution_count": 12,
     "metadata": {},
     "output_type": "execute_result"
    }
   ],
   "source": [
    "f / g"
   ]
  },
  {
   "cell_type": "code",
   "execution_count": 13,
   "id": "bf8ee788",
   "metadata": {},
   "outputs": [],
   "source": [
    "h = 'mind'"
   ]
  },
  {
   "cell_type": "code",
   "execution_count": 14,
   "id": "96575639",
   "metadata": {},
   "outputs": [],
   "source": [
    "i = 'set'"
   ]
  },
  {
   "cell_type": "code",
   "execution_count": 15,
   "id": "979193a3",
   "metadata": {},
   "outputs": [
    {
     "data": {
      "text/plain": [
       "'mindset'"
      ]
     },
     "execution_count": 15,
     "metadata": {},
     "output_type": "execute_result"
    }
   ],
   "source": [
    "h + i"
   ]
  },
  {
   "cell_type": "code",
   "execution_count": 16,
   "id": "aeca47ed",
   "metadata": {},
   "outputs": [],
   "source": [
    "j = 'The 2022 world cup'"
   ]
  },
  {
   "cell_type": "code",
   "execution_count": 17,
   "id": "eae9057d",
   "metadata": {},
   "outputs": [],
   "source": [
    "k = ' is in Qatar'"
   ]
  },
  {
   "cell_type": "code",
   "execution_count": 23,
   "id": "0c6a3128",
   "metadata": {},
   "outputs": [],
   "source": [
    "l = 'I am '"
   ]
  },
  {
   "cell_type": "code",
   "execution_count": 24,
   "id": "12d78702",
   "metadata": {},
   "outputs": [],
   "source": [
    "m = 'currently a student'"
   ]
  },
  {
   "cell_type": "code",
   "execution_count": 25,
   "id": "789f415e",
   "metadata": {},
   "outputs": [],
   "source": [
    "n = ' of Career Foundry'"
   ]
  },
  {
   "cell_type": "code",
   "execution_count": 26,
   "id": "b3973d86",
   "metadata": {},
   "outputs": [
    {
     "data": {
      "text/plain": [
       "'The 2022 world cup is in Qatar'"
      ]
     },
     "execution_count": 26,
     "metadata": {},
     "output_type": "execute_result"
    }
   ],
   "source": [
    "j + k"
   ]
  },
  {
   "cell_type": "code",
   "execution_count": 27,
   "id": "1799dc33",
   "metadata": {},
   "outputs": [
    {
     "data": {
      "text/plain": [
       "'I am currently a student of Career Foundry'"
      ]
     },
     "execution_count": 27,
     "metadata": {},
     "output_type": "execute_result"
    }
   ],
   "source": [
    "l + m + n"
   ]
  },
  {
   "cell_type": "code",
   "execution_count": 29,
   "id": "0ecd73ae",
   "metadata": {},
   "outputs": [],
   "source": [
    "q = 'he'"
   ]
  },
  {
   "cell_type": "code",
   "execution_count": 30,
   "id": "894d213c",
   "metadata": {},
   "outputs": [
    {
     "data": {
      "text/plain": [
       "'hehehehehehehehehehehehehehehehehehehehehehehehehehehehehehehehehehehehehehehehehehehehehehehehehehehehehehehehehehehehehehehehehehehehehehehehehehehehehehehehehehehehehehehehehehehehehehehehehehehehe'"
      ]
     },
     "execution_count": 30,
     "metadata": {},
     "output_type": "execute_result"
    }
   ],
   "source": [
    "q * 100"
   ]
  },
  {
   "cell_type": "code",
   "execution_count": null,
   "id": "87ea6d22",
   "metadata": {},
   "outputs": [],
   "source": []
  }
 ],
 "metadata": {
  "kernelspec": {
   "display_name": "Python 3 (ipykernel)",
   "language": "python",
   "name": "python3"
  },
  "language_info": {
   "codemirror_mode": {
    "name": "ipython",
    "version": 3
   },
   "file_extension": ".py",
   "mimetype": "text/x-python",
   "name": "python",
   "nbconvert_exporter": "python",
   "pygments_lexer": "ipython3",
   "version": "3.9.13"
  }
 },
 "nbformat": 4,
 "nbformat_minor": 5
}
